{
 "cells": [
  {
   "cell_type": "code",
   "execution_count": 107,
   "metadata": {},
   "outputs": [],
   "source": [
    "import numpy as np\n",
    "import pandas as pd\n",
    "import os\n",
    "from pyspark.sql import SparkSession"
   ]
  },
  {
   "cell_type": "code",
   "execution_count": 108,
   "metadata": {},
   "outputs": [],
   "source": [
    "# spark_home = \"D:\\Recovered Folders\\CUFE\\Spring 2024\\Big Data\\Spark\"\n",
    "spark_home = \"D:/Programs/Spark/spark_unzipped\"\n",
    "os.environ[\"SPARK_HOME\"] = spark_home\n",
    "\n",
    "# Add Spark bin and executors to PATH\n",
    "os.environ[\"PATH\"] += os.pathsep + os.path.join(spark_home, \"bin\")\n",
    "os.environ[\"PATH\"] += os.pathsep + os.path.join(spark_home, \"sbin\")\n",
    "\n",
    "# Add Spark Python libraries to PYTHONPATH\n",
    "os.environ[\"PYTHONPATH\"] = os.path.join(spark_home, \"python\") + os.pathsep + os.environ.get(\"PYTHONPATH\", \"\")\n",
    "os.environ[\"PYTHONPATH\"] += os.pathsep + os.path.join(spark_home, \"python\", \"lib\")\n",
    "\n",
    "# Add PySpark to the system path\n",
    "os.environ[\"PATH\"] += os.pathsep + os.path.join(spark_home, \"python\", \"lib\", \"pyspark.zip\")\n",
    "os.environ[\"PATH\"] += os.pathsep + os.path.join(spark_home, \"python\", \"lib\", \"py4j-0.10.9-src.zip\")\n",
    "os.environ['PYSPARK_PYTHON'] = 'python'"
   ]
  },
  {
   "cell_type": "code",
   "execution_count": 109,
   "metadata": {},
   "outputs": [],
   "source": [
    "spark = SparkSession.builder.appName(\"HotelBooking\").getOrCreate()\n",
    "\n",
    "sc = spark.sparkContext\n",
    "sc.setLogLevel(\"ERROR\")"
   ]
  },
  {
   "cell_type": "code",
   "execution_count": 110,
   "metadata": {},
   "outputs": [],
   "source": [
    "# Read the data from the CSV file\n",
    "df = spark.read.option(\"header\", True).option(\"inferSchema\", True).csv('hotel_bookings_train.csv')\n",
    "df_test = spark.read.option(\"header\", True).option(\"inferSchema\", True).csv('hotel_bookings_test.csv')"
   ]
  },
  {
   "cell_type": "code",
   "execution_count": 111,
   "metadata": {},
   "outputs": [
    {
     "data": {
      "text/plain": [
       "DataFrame[is_canceled: double]"
      ]
     },
     "execution_count": 111,
     "metadata": {},
     "output_type": "execute_result"
    }
   ],
   "source": [
    "y_train = df.select(\"is_canceled\")\n",
    "y_train"
   ]
  },
  {
   "cell_type": "code",
   "execution_count": 112,
   "metadata": {},
   "outputs": [
    {
     "data": {
      "text/plain": [
       "DataFrame[deposit_type: double, lead_time: double, country: double, total_of_special_requests: double, booking_changes: double, assigned_room_type: double, distribution_channel: double, hotel: double, adults: double, customer_type: double, reserved_room_type: double, market_segment: double, adr: double, stays_in_week_nights: double]"
      ]
     },
     "execution_count": 112,
     "metadata": {},
     "output_type": "execute_result"
    }
   ],
   "source": [
    "x_data = df.drop('is_canceled')\n",
    "x_data"
   ]
  },
  {
   "cell_type": "markdown",
   "metadata": {},
   "source": [
    "## Naive Bayes Classifier"
   ]
  },
  {
   "cell_type": "code",
   "execution_count": 113,
   "metadata": {},
   "outputs": [
    {
     "name": "stdout",
     "output_type": "stream",
     "text": [
      "['deposit_type', 'lead_time', 'country', 'total_of_special_requests', 'booking_changes', 'assigned_room_type', 'distribution_channel', 'hotel', 'adults', 'customer_type', 'reserved_room_type', 'market_segment', 'adr', 'stays_in_week_nights', 'is_canceled']\n",
      "15\n"
     ]
    }
   ],
   "source": [
    "label_column = \"is_canceled\"\n",
    "features_columns = df.columns\n",
    "print(features_columns)\n",
    "print(len(features_columns))"
   ]
  },
  {
   "cell_type": "markdown",
   "metadata": {},
   "source": [
    "#### Prior Probabilities"
   ]
  },
  {
   "cell_type": "code",
   "execution_count": 114,
   "metadata": {},
   "outputs": [],
   "source": [
    "# Output: [(c0, 1), (c1, 1), (c0, 1), (c0, 1), (c1, 1)]\n",
    "def mapper_prior(rows):\n",
    "    result = []\n",
    "    for row in rows:\n",
    "        result.append((row[label_column], 1))\n",
    "    return result\n",
    "\n",
    "# Output: [(c0, 3), (c1, 2)]\n",
    "def reducer_prior(row):\n",
    "    key, values = row\n",
    "    return [(key, sum(values))]"
   ]
  },
  {
   "cell_type": "code",
   "execution_count": 115,
   "metadata": {},
   "outputs": [],
   "source": [
    "# Select the first 100 rows\n",
    "# df_selected = df.take(100)\n",
    "# df_selected = sc.parallelize(df_selected)"
   ]
  },
  {
   "cell_type": "code",
   "execution_count": 116,
   "metadata": {},
   "outputs": [],
   "source": [
    "prior = df.rdd.mapPartitions(mapper_prior).groupByKey().flatMap(reducer_prior)\n",
    "# prior = df_selected.mapPartitions(mapper_prior).groupByKey().flatMap(reducer_prior)"
   ]
  },
  {
   "cell_type": "code",
   "execution_count": 117,
   "metadata": {},
   "outputs": [],
   "source": [
    "# Calculate the total count per class\n",
    "total_count = prior.map(lambda x: x[1]).sum()"
   ]
  },
  {
   "cell_type": "code",
   "execution_count": 118,
   "metadata": {},
   "outputs": [
    {
     "name": "stdout",
     "output_type": "stream",
     "text": [
      "Prior probability: {0.0: 0.629236195188714, 1.0: 0.370763804811286}\n"
     ]
    }
   ],
   "source": [
    "# Calculate prior probabilities\n",
    "prior_probabilities = prior.map(lambda x: (x[0], x[1]/total_count)).collectAsMap()\n",
    "\n",
    "print(\"Prior probability:\", prior_probabilities)"
   ]
  },
  {
   "cell_type": "markdown",
   "metadata": {},
   "source": [
    "#### Likelihood Probabilities"
   ]
  },
  {
   "cell_type": "code",
   "execution_count": 119,
   "metadata": {},
   "outputs": [],
   "source": [
    "# dict = { \n",
    "#     c0: { \n",
    "#             f1: { v1: 0, v2: 0}, \n",
    "#             f2: { v1: 0, v2: 0}\n",
    "#         },\n",
    "#     c1: { \n",
    "#             f1: { v1: 0, v2: 0}, \n",
    "#             f2: { v1: 0, v2: 0}\n",
    "#         }\n",
    "# }\n",
    "\n",
    "def mapper_likelihood(split):\n",
    "    mapper_result = []\n",
    "    mapper_dict = {}\n",
    "\n",
    "    for row in split:\n",
    "        label = row[label_column]\n",
    "        if label not in mapper_dict:\n",
    "            mapper_dict[label] = {}\n",
    "\n",
    "        for feature in features_columns:\n",
    "            value = row[feature]\n",
    "            if feature not in mapper_dict[label]:\n",
    "                mapper_dict[label][feature] = {}\n",
    "\n",
    "            if value not in mapper_dict[label][feature]:\n",
    "                mapper_dict[label][feature][value] = 0\n",
    "\n",
    "            mapper_dict[label][feature][value] += 1\n",
    "\n",
    "    for label in mapper_dict:\n",
    "        for feature in mapper_dict[label]:\n",
    "            for value in mapper_dict[label][feature]:\n",
    "                mapper_result.append((label, (feature, value, mapper_dict[label][feature][value])))\n",
    "    return mapper_result\n",
    "\n",
    "# Output:\n",
    "# [<c0, (f1, v1, 5)>, <c0, (f1, v2, 10)>]\n",
    "# [<c1, (f1, v1, 2)>, <c1, (f1, v2, 3)>]\n",
    "def reducer1(row):\n",
    "    key, tups = row\n",
    "    reducer1_dict = {}\n",
    "    reducer1_result = []\n",
    "\n",
    "    for tup in tups:\n",
    "        feature, value, count = tup\n",
    "        if feature not in reducer1_dict:\n",
    "            reducer1_dict[feature] = {}\n",
    "\n",
    "        if value not in reducer1_dict[feature]:\n",
    "            reducer1_dict[feature][value] = 0\n",
    "\n",
    "        reducer1_dict[feature][value] += count\n",
    "\n",
    "    for feature in reducer1_dict:\n",
    "        for value in reducer1_dict[feature]:\n",
    "            reducer1_result.append((key, (feature, value, reducer1_dict[feature][value])))\n",
    "\n",
    "    return reducer1_result\n",
    "\n",
    "# Output:\n",
    "# [<c0, (f1, v1, 10, 15)>, <c0, (f1, v2, 5, 15)>]\n",
    "# [<c1, (f1, v1, 2, 5)>, <c1, (f1, v2, 3, 5)>]\n",
    "def reducer2(row):\n",
    "    label, tups = row\n",
    "    reducer2_dict = {}\n",
    "    reducer2_result = []\n",
    "\n",
    "    for tup in tups:\n",
    "        feature, value, count = tup\n",
    "        if feature not in reducer2_dict:\n",
    "            reducer2_dict[feature] = 0\n",
    "\n",
    "        reducer2_dict[feature] += count\n",
    "\n",
    "    for tup in tups:\n",
    "        feature, value, count = tup\n",
    "        reducer2_result.append((label, (feature, value, count, reducer2_dict[feature])))\n",
    "\n",
    "    return reducer2_result\n",
    "\n",
    "# Output: \n",
    "# [<c0, (f1, v1, 10/15)>, <c0, (f1, v2, 5/15)>]\n",
    "# [<c1, (f1, v1, 2/5)>, <c1, (f1, v2, 3/5)>]\n",
    "def reducer3(row):\n",
    "    label, tups = row\n",
    "    reducer3_result = []\n",
    "\n",
    "    for tup in tups:\n",
    "        feature, value, count, total = tup\n",
    "        reducer3_result.append((label, (feature, value, count / total)))\n",
    "\n",
    "    return reducer3_result"
   ]
  },
  {
   "cell_type": "code",
   "execution_count": 120,
   "metadata": {},
   "outputs": [
    {
     "name": "stdout",
     "output_type": "stream",
     "text": [
      "Posterior probability: [(0.0, ('deposit_type', 0.0, 0.9970720117788783)), (0.0, ('deposit_type', 1.0, 0.001288314817293535)), (0.0, ('deposit_type', 2.0, 0.0016396734038281356)), (0.0, ('lead_time', 8.0, 0.0832050595636461)), (0.0, ('lead_time', 0.0, 0.14256792932673001)), (0.0, ('lead_time', 6.0, 0.08999799223664838)), (0.0, ('lead_time', 2.0, 0.11322112167045911)), (0.0, ('lead_time', 1.0, 0.13535671262213894)), (0.0, ('lead_time', 4.0, 0.09966871904698166)), (0.0, ('lead_time', 3.0, 0.10264690135189398)), (0.0, ('lead_time', 5.0, 0.0935785035470486)), (0.0, ('lead_time', 7.0, 0.0863338241199304)), (0.0, ('lead_time', 9.0, 0.05342323651452282)), (0.0, ('country', 59.0, 0.13025364743675547)), (0.0, ('country', 81.0, 0.032509034935082316)), (0.0, ('country', 169.0, 0.02131575424976576)), (0.0, ('country', 29.0, 0.017082719850087004)), (0.0, ('country', 135.0, 0.28165573551064116)), (0.0, ('country', 25.0, 0.019123945924240396)), (0.0, ('country', 56.0, 0.1135055548119395)), (0.0, ('country', 140.0, 0.005169990630437693)), (0.0, ('country', 49.0, 0.00030116450274394324)), (0.0, ('country', 76.0, 0.03369696158479454)), (0.0, ('country', 154.0, 0.01085865346004551)), (0.0, ('country', 15.0, 0.02508031053406505)), (0.0, ('country', 51.0, 0.08511243474769108)), (0.0, ('country', 99.0, 0.0010540757596038013)), (0.0, ('country', 103.0, 0.0020077633516262885)), (0.0, ('country', 139.0, 0.0047517065988488824)), (0.0, ('country', 123.0, 0.02332351760139205)), (0.0, ('country', 101.0, 0.0006357917280149913)), (0.0, ('country', 43.0, 0.08044438495515994)), (0.0, ('country', 127.0, 0.00016731361263552403)), (0.0, ('country', 80.0, 0.0065419622540489894)), (0.0, ('country', 133.0, 0.009637264087806184)), (0.0, ('country', 12.0, 0.013870298487484941)), (0.0, ('country', 46.0, 0.004484004818632044)), (0.0, ('country', 11.0, 0.00424976576094231)), (0.0, ('country', 34.0, 0.013820104403694284)), (0.0, ('country', 31.0, 0.0072112167045910855)), (0.0, ('country', 100.0, 0.0023925846606879936)), (0.0, ('country', 72.0, 0.002124882880471155)), (0.0, ('country', 113.0, 0.000619060366751439)), (0.0, ('country', 79.0, 0.0006525230892785437)), (0.0, ('country', 71.0, 0.0009034935082318298)), (0.0, ('country', 126.0, 0.0009369562307589345)), (0.0, ('country', 124.0, 0.005521349216972293)), (0.0, ('country', 6.0, 0.002074688796680498)), (0.0, ('country', 87.0, 6.69254450542096e-05)), (0.0, ('country', 66.0, 0.001288314817293535)), (0.0, ('country', 75.0, 0.0015894793200374783)), (0.0, ('country', 42.0, 0.0017567929326730023)), (0.0, ('country', 22.0, 0.00011711952884486681)), (0.0, ('country', 1.0, 0.002024494712889841)), (0.0, ('country', 54.0, 0.005236916075491902)), (0.0, ('country', 149.0, 0.0013050461785570873)), (0.0, ('country', 52.0, 0.0008198367019140678)), (0.0, ('country', 138.0, 3.34627225271048e-05)), (0.0, ('country', 121.0, 0.0001338508901084192)), (0.0, ('country', 171.0, 0.00020077633516262883)), (0.0, ('country', 108.0, 0.0001338508901084192)), (0.0, ('country', 78.0, 0.00018404497389907642)), (0.0, ('country', 48.0, 0.0010038816758131442)), (0.0, ('country', 166.0, 0.0006357917280149913)), (0.0, ('country', 95.0, 0.00011711952884486681)), (0.0, ('country', 91.0, 0.0010038816758131442)), (0.0, ('country', 30.0, 0.0007361798955963057)), (0.0, ('country', 85.0, 0.002292196493106679)), (0.0, ('country', 107.0, 0.0010540757596038013)), (0.0, ('country', 142.0, 0.00023423905768973362)), (0.0, ('country', 134.0, 0.00011711952884486681)), (0.0, ('country', 173.0, 0.00010038816758131441)), (0.0, ('country', 162.0, 0.0020579574354169456)), (0.0, ('country', 19.0, 0.0008365680631776201)), (0.0, ('country', 9.0, 3.34627225271048e-05)), (0.0, ('country', 153.0, 0.0005521349216972293)), (0.0, ('country', 41.0, 0.0005521349216972293)), (0.0, ('country', 112.0, 5.019408379065721e-05)), (0.0, ('country', 141.0, 3.34627225271048e-05)), (0.0, ('country', 115.0, 6.69254450542096e-05)), (0.0, ('country', 63.0, 6.69254450542096e-05)), (0.0, ('country', 38.0, 0.00025097041895328606)), (0.0, ('country', 84.0, 0.0002677017802168384)), (0.0, ('country', 174.0, 0.000702717173069201)), (0.0, ('country', 110.0, 0.00018404497389907642)), (0.0, ('country', 32.0, 6.69254450542096e-05)), (0.0, ('country', 77.0, 0.0008198367019140678)), (0.0, ('country', 92.0, 0.00011711952884486681)), (0.0, ('country', 23.0, 0.00025097041895328606)), (0.0, ('country', 131.0, 0.00020077633516262883)), (0.0, ('country', 86.0, 0.0001338508901084192)), (0.0, ('country', 152.0, 0.0005186721991701245)), (0.0, ('country', 39.0, 0.00011711952884486681)), (0.0, ('country', 168.0, 0.00025097041895328606)), (0.0, ('country', 24.0, 0.0001338508901084192)), (0.0, ('country', 50.0, 0.0002677017802168384)), (0.0, ('country', 37.0, 0.00015058225137197162)), (0.0, ('country', 73.0, 0.00016731361263552403)), (0.0, ('country', 18.0, 5.019408379065721e-05)), (0.0, ('country', 158.0, 0.0006023290054878865)), (0.0, ('country', 35.0, 0.0006023290054878865)), (0.0, ('country', 47.0, 0.00010038816758131441)), (0.0, ('country', 0.0, 3.34627225271048e-05)), (0.0, ('country', 117.0, 0.00033462722527104807)), (0.0, ('country', 144.0, 5.019408379065721e-05)), (0.0, ('country', 3.0, 0.00010038816758131441)), (0.0, ('country', 65.0, 0.00010038816758131441)), (0.0, ('country', 161.0, 0.00023423905768973362)), (0.0, ('country', 163.0, 0.0005688662829607817)), (0.0, ('country', 94.0, 0.00028443314148039083)), (0.0, ('country', 129.0, 0.00010038816758131441)), (0.0, ('country', 102.0, 1.67313612635524e-05)), (0.0, ('country', 5.0, 0.0001338508901084192)), (0.0, ('country', 164.0, 3.34627225271048e-05)), (0.0, ('country', 60.0, 0.00010038816758131441)), (0.0, ('country', 130.0, 0.00028443314148039083)), (0.0, ('country', 125.0, 1.67313612635524e-05)), (0.0, ('country', 98.0, 6.69254450542096e-05)), (0.0, ('country', 145.0, 0.00031789586400749565)), (0.0, ('country', 165.0, 1.67313612635524e-05)), (0.0, ('country', 44.0, 1.67313612635524e-05)), (0.0, ('country', 53.0, 3.34627225271048e-05)), (0.0, ('country', 106.0, 5.019408379065721e-05)), (0.0, ('country', 120.0, 1.67313612635524e-05)), (0.0, ('country', 160.0, 3.34627225271048e-05)), (0.0, ('country', 67.0, 6.69254450542096e-05)), (0.0, ('country', 33.0, 0.0001338508901084192)), (0.0, ('country', 28.0, 6.69254450542096e-05)), (0.0, ('country', 157.0, 3.34627225271048e-05)), (0.0, ('country', 2.0, 1.67313612635524e-05)), (0.0, ('country', 40.0, 1.67313612635524e-05)), (0.0, ('country', 137.0, 1.67313612635524e-05)), (0.0, ('country', 4.0, 3.34627225271048e-05)), (0.0, ('country', 128.0, 5.019408379065721e-05)), (0.0, ('country', 7.0, 8.365680631776202e-05)), (0.0, ('country', 69.0, 5.019408379065721e-05)), (0.0, ('country', 20.0, 1.67313612635524e-05)), (0.0, ('country', 147.0, 3.34627225271048e-05)), (0.0, ('country', 111.0, 1.67313612635524e-05)), (0.0, ('country', 159.0, 1.67313612635524e-05)), (0.0, ('country', 89.0, 1.67313612635524e-05)), (0.0, ('country', 170.0, 1.67313612635524e-05)), (0.0, ('country', 116.0, 1.67313612635524e-05)), (0.0, ('country', 109.0, 1.67313612635524e-05)), (0.0, ('country', 62.0, 3.34627225271048e-05)), (0.0, ('country', 156.0, 5.019408379065721e-05)), (0.0, ('country', 68.0, 1.67313612635524e-05)), (0.0, ('country', 45.0, 1.67313612635524e-05)), (0.0, ('country', 13.0, 6.69254450542096e-05)), (0.0, ('country', 176.0, 3.34627225271048e-05)), (0.0, ('country', 151.0, 6.69254450542096e-05)), (0.0, ('country', 58.0, 3.34627225271048e-05)), (0.0, ('country', 26.0, 5.019408379065721e-05)), (0.0, ('country', 150.0, 3.34627225271048e-05)), (0.0, ('country', 136.0, 5.019408379065721e-05)), (0.0, ('country', 82.0, 5.019408379065721e-05)), (0.0, ('country', 104.0, 3.34627225271048e-05)), (0.0, ('country', 97.0, 3.34627225271048e-05)), (0.0, ('country', 146.0, 1.67313612635524e-05)), (0.0, ('country', 148.0, 1.67313612635524e-05)), (0.0, ('country', 36.0, 3.34627225271048e-05)), (0.0, ('country', 175.0, 1.67313612635524e-05)), (0.0, ('country', 114.0, 1.67313612635524e-05)), (0.0, ('country', 93.0, 1.67313612635524e-05)), (0.0, ('country', 8.0, 1.67313612635524e-05)), (0.0, ('country', 90.0, 3.34627225271048e-05)), (0.0, ('country', 132.0, 1.67313612635524e-05)), (0.0, ('country', 143.0, 1.67313612635524e-05)), (0.0, ('country', 96.0, 1.67313612635524e-05)), (0.0, ('country', 105.0, 1.67313612635524e-05)), (0.0, ('country', 27.0, 1.67313612635524e-05)), (0.0, ('country', 10.0, 1.67313612635524e-05)), (0.0, ('country', 57.0, 1.67313612635524e-05)), (0.0, ('total_of_special_requests', 2.0, 0.16662762682371837)), (0.0, ('total_of_special_requests', 0.0, 0.4868491500468478)), (0.0, ('total_of_special_requests', 1.0, 0.3465232231294338)), (0.0, ('booking_changes', 0.0, 0.7976676482398608)), (0.0, ('booking_changes', 1.0, 0.2023323517601392)), (0.0, ('assigned_room_type', 0.0, 0.5488388435283095)), (0.0, ('assigned_room_type', 3.0, 0.2518237183777272)), (0.0, ('assigned_room_type', 5.0, 0.03782960781689198)), (0.0, ('assigned_room_type', 2.0, 0.025113773256592156)), (0.0, ('assigned_room_type', 4.0, 0.0776502476241467)), (0.0, ('assigned_room_type', 6.0, 0.023658144826663098)), (0.0, ('assigned_room_type', 7.0, 0.00605675277740597)), (0.0, ('assigned_room_type', 1.0, 0.02200174006157141)), (0.0, ('assigned_room_type', 9.0, 0.0023925846606879936)), (0.0, ('assigned_room_type', 8.0, 0.0046345870700040155)), (0.0, ('distribution_channel', 3.0, 0.7712153660821844)), (0.0, ('distribution_channel', 1.0, 0.15924909650649177)), (0.0, ('distribution_channel', 0.0, 0.06732699772453486)), (0.0, ('distribution_channel', 2.0, 0.0022085396867889172)), (0.0, ('hotel', 1.0, 0.38070539419087135)), (0.0, ('hotel', 0.0, 0.6192946058091287)), (0.0, ('adults', 2.0, 0.783195020746888)), (0.0, ('adults', 1.0, 0.21489760406906705)), (0.0, ('adults', 0.0, 0.001907375184044974)), (0.0, ('customer_type', 0.0, 0.03789653326194619)), (0.0, ('customer_type', 3.0, 0.24928055146566724)), (0.0, ('customer_type', 2.0, 0.7058961317092759)), (0.0, ('customer_type', 1.0, 0.006926783563110695)), (0.0, ('reserved_room_type', 0.0, 0.6953051800294472)), (0.0, ('reserved_room_type', 3.0, 0.17559563646098247)), (0.0, ('reserved_room_type', 5.0, 0.026920760273055816)), (0.0, ('reserved_room_type', 4.0, 0.06190603667514389)), (0.0, ('reserved_room_type', 1.0, 0.009988622674340784)), (0.0, ('reserved_room_type', 6.0, 0.017501003881675813)), (0.0, ('reserved_room_type', 2.0, 0.008014322045241601)), (0.0, ('reserved_room_type', 7.0, 0.0047517065988488824)), (0.0, ('reserved_room_type', 8.0, 1.67313612635524e-05)), (0.0, ('market_segment', 5.0, 0.21191942176415474)), (0.0, ('market_segment', 3.0, 0.1406772855039486)), (0.0, ('market_segment', 6.0, 0.47910252978182305)), (0.0, ('market_segment', 2.0, 0.05531388033730424)), (0.0, ('market_segment', 4.0, 0.10224534868156873)), (0.0, ('market_segment', 1.0, 0.008365680631776201)), (0.0, ('market_segment', 0.0, 0.0023758532994244412)), (0.0, ('adr', 3.0, 0.0999364208271985)), (0.0, ('adr', 0.0, 0.12426382010440369)), (0.0, ('adr', 4.0, 0.10656203988756525)), (0.0, ('adr', 8.0, 0.10192745281756124)), (0.0, ('adr', 7.0, 0.09088475438361665)), (0.0, ('adr', 1.0, 0.08096305715433008)), (0.0, ('adr', 2.0, 0.09864810600990497)), (0.0, ('adr', 9.0, 0.09886561370633115)), (0.0, ('adr', 6.0, 0.10396867889171463)), (0.0, ('adr', 5.0, 0.09398005621737385)), (0.0, ('stays_in_week_nights', 5.0, 0.13749832686387364)), (0.0, ('stays_in_week_nights', 0.0, 0.07572614107883817)), (0.0, ('stays_in_week_nights', 3.0, 0.18188662829607816)), (0.0, ('stays_in_week_nights', 1.0, 0.2715499933074555)), (0.0, ('stays_in_week_nights', 4.0, 0.08106344532191138)), (0.0, ('stays_in_week_nights', 2.0, 0.2522754651318431)), (0.0, ('is_canceled', 0.0, 1.0)), (1.0, ('deposit_type', 0.0, 0.6706136241019962)), (1.0, ('deposit_type', 1.0, 0.32867649146718914)), (1.0, ('deposit_type', 2.0, 0.0007098844308146634)), (1.0, ('lead_time', 4.0, 0.10503450038333759)), (1.0, ('lead_time', 6.0, 0.11693216344379136)), (1.0, ('lead_time', 3.0, 0.09657267796802681)), (1.0, ('lead_time', 5.0, 0.10759008433427038)), (1.0, ('lead_time', 9.0, 0.1830649970184854)), (1.0, ('lead_time', 0.0, 0.021694068205696113)), (1.0, ('lead_time', 2.0, 0.07567368032484312)), (1.0, ('lead_time', 8.0, 0.1263310333077775)), (1.0, ('lead_time', 7.0, 0.12644461481670785)), (1.0, ('lead_time', 1.0, 0.04066218019706392)), (1.0, ('country', 56.0, 0.04338813641139223)), (1.0, ('country', 135.0, 0.6233921117642048)), (1.0, ('country', 133.0, 0.004884004884004884)), (1.0, ('country', 29.0, 0.009853195899707528)), (1.0, ('country', 25.0, 0.018712553596274526)), (1.0, ('country', 12.0, 0.005139563279098163)), (1.0, ('country', 31.0, 0.010051963540335633)), (1.0, ('country', 81.0, 0.030269472129937247)), (1.0, ('country', 124.0, 0.004003748189794701)), (1.0, ('country', 76.0, 0.019280461140926256)), (1.0, ('country', 59.0, 0.05591049777096289)), (1.0, ('country', 69.0, 0.0005679075446517307)), (1.0, ('country', 32.0, 2.8395377232586536e-05)), (1.0, ('country', 140.0, 0.005423517051424028)), (1.0, ('country', 43.0, 0.027827469687934803)), (1.0, ('country', 131.0, 0.0006530936763494903)), (1.0, ('country', 77.0, 0.0005963029218843172)), (1.0, ('country', 103.0, 0.002300025555839509)), (1.0, ('country', 142.0, 0.0007666751852798365)), (1.0, ('country', 51.0, 0.04957832864809609)), (1.0, ('country', 72.0, 0.0016753272567226055)), (1.0, ('country', 169.0, 0.01130136013856944)), (1.0, ('country', 11.0, 0.002385211687537269)), (1.0, ('country', 1.0, 0.004742027997841952)), (1.0, ('country', 166.0, 0.0005111167901865576)), (1.0, ('country', 80.0, 0.003804980549166596)), (1.0, ('country', 46.0, 0.0026691654598631344)), (1.0, ('country', 6.0, 0.0011926058437686344)), (1.0, ('country', 139.0, 0.0029815146094215863)), (1.0, ('country', 152.0, 0.00036913990402362494)), (1.0, ('country', 123.0, 0.008490217792543374)), (1.0, ('country', 15.0, 0.010619871084987364)), (1.0, ('country', 5.0, 0.0010222335803731152)), (1.0, ('country', 73.0, 0.0005111167901865576)), (1.0, ('country', 164.0, 5.679075446517307e-05)), (1.0, ('country', 75.0, 0.0007382798080472499)), (1.0, ('country', 154.0, 0.00499758639293523)), (1.0, ('country', 113.0, 0.0005111167901865576)), (1.0, ('country', 91.0, 0.0012493965982338076)), (1.0, ('country', 30.0, 0.00036913990402362494)), (1.0, ('country', 100.0, 0.002498793196467615)), (1.0, ('country', 161.0, 0.00042593065848879803)), (1.0, ('country', 22.0, 8.51861316977596e-05)), (1.0, ('country', 3.0, 5.679075446517307e-05)), (1.0, ('country', 54.0, 0.0013061873526989806)), (1.0, ('country', 66.0, 0.0006814890535820768)), (1.0, ('country', 34.0, 0.005849447709912826)), (1.0, ('country', 19.0, 0.00028395377232586535)), (1.0, ('country', 63.0, 0.00028395377232586535)), (1.0, ('country', 121.0, 0.00042593065848879803)), (1.0, ('country', 162.0, 0.0023568163103046824)), (1.0, ('country', 85.0, 0.0006814890535820768)), (1.0, ('country', 42.0, 0.0009086520714427692)), (1.0, ('country', 23.0, 0.0002271630178606923)), (1.0, ('country', 110.0, 0.00014197688616293268)), (1.0, ('country', 48.0, 0.00042593065848879803)), (1.0, ('country', 52.0, 0.0004543260357213846)), (1.0, ('country', 83.0, 0.0001703722633955192)), (1.0, ('country', 153.0, 0.00028395377232586535)), (1.0, ('country', 37.0, 0.0002271630178606923)), (1.0, ('country', 173.0, 5.679075446517307e-05)), (1.0, ('country', 101.0, 0.00019876764062810574)), (1.0, ('country', 88.0, 5.679075446517307e-05)), (1.0, ('country', 149.0, 5.679075446517307e-05)), (1.0, ('country', 4.0, 0.00014197688616293268)), (1.0, ('country', 145.0, 0.0003975352812562115)), (1.0, ('country', 107.0, 0.0002555583950932788)), (1.0, ('country', 94.0, 0.0002555583950932788)), (1.0, ('country', 174.0, 0.0007098844308146634)), (1.0, ('country', 155.0, 2.8395377232586536e-05)), (1.0, ('country', 144.0, 0.0001703722633955192)), (1.0, ('country', 171.0, 0.0003123491495584519)), (1.0, ('country', 92.0, 0.00014197688616293268)), (1.0, ('country', 158.0, 0.0003975352812562115)), (1.0, ('country', 35.0, 0.00048272141295397107)), (1.0, ('country', 130.0, 0.00014197688616293268)), (1.0, ('country', 64.0, 5.679075446517307e-05)), (1.0, ('country', 49.0, 0.00019876764062810574)), (1.0, ('country', 41.0, 0.0002555583950932788)), (1.0, ('country', 18.0, 0.0002555583950932788)), (1.0, ('country', 128.0, 0.0002271630178606923)), (1.0, ('country', 118.0, 2.8395377232586536e-05)), (1.0, ('country', 106.0, 0.0002271630178606923)), (1.0, ('country', 138.0, 0.00019876764062810574)), (1.0, ('country', 168.0, 0.0002271630178606923)), (1.0, ('country', 102.0, 0.0003123491495584519)), (1.0, ('country', 84.0, 5.679075446517307e-05)), (1.0, ('country', 163.0, 0.00028395377232586535)), (1.0, ('country', 99.0, 0.0001703722633955192)), (1.0, ('country', 74.0, 5.679075446517307e-05)), (1.0, ('country', 71.0, 0.00048272141295397107)), (1.0, ('country', 126.0, 0.00011358150893034614)), (1.0, ('country', 38.0, 2.8395377232586536e-05)), (1.0, ('country', 20.0, 8.51861316977596e-05)), (1.0, ('country', 159.0, 0.00014197688616293268)), (1.0, ('country', 50.0, 0.0001703722633955192)), (1.0, ('country', 57.0, 5.679075446517307e-05)), (1.0, ('country', 61.0, 8.51861316977596e-05)), (1.0, ('country', 13.0, 0.00019876764062810574)), (1.0, ('country', 108.0, 5.679075446517307e-05)), (1.0, ('country', 170.0, 5.679075446517307e-05)), (1.0, ('country', 115.0, 2.8395377232586536e-05)), (1.0, ('country', 134.0, 2.8395377232586536e-05)), (1.0, ('country', 65.0, 2.8395377232586536e-05)), (1.0, ('country', 47.0, 0.0001703722633955192)), (1.0, ('country', 60.0, 0.00042593065848879803)), (1.0, ('country', 175.0, 2.8395377232586536e-05)), (1.0, ('country', 55.0, 2.8395377232586536e-05)), (1.0, ('country', 117.0, 8.51861316977596e-05)), (1.0, ('country', 104.0, 2.8395377232586536e-05)), (1.0, ('country', 86.0, 0.00014197688616293268)), (1.0, ('country', 16.0, 5.679075446517307e-05)), (1.0, ('country', 70.0, 2.8395377232586536e-05)), (1.0, ('country', 87.0, 2.8395377232586536e-05)), (1.0, ('country', 62.0, 2.8395377232586536e-05)), (1.0, ('country', 127.0, 5.679075446517307e-05)), (1.0, ('country', 79.0, 8.51861316977596e-05)), (1.0, ('country', 172.0, 2.8395377232586536e-05)), (1.0, ('country', 53.0, 2.8395377232586536e-05)), (1.0, ('country', 7.0, 2.8395377232586536e-05)), (1.0, ('country', 122.0, 2.8395377232586536e-05)), (1.0, ('country', 176.0, 2.8395377232586536e-05)), (1.0, ('country', 112.0, 5.679075446517307e-05)), (1.0, ('country', 58.0, 2.8395377232586536e-05)), (1.0, ('country', 167.0, 2.8395377232586536e-05)), (1.0, ('country', 160.0, 2.8395377232586536e-05)), (1.0, ('total_of_special_requests', 2.0, 0.07456626061277224)), (1.0, ('total_of_special_requests', 1.0, 0.16486356021239743)), (1.0, ('total_of_special_requests', 0.0, 0.7605701791748304)), (1.0, ('booking_changes', 0.0, 0.9369622625436579)), (1.0, ('booking_changes', 1.0, 0.06303773745634211)), (1.0, ('assigned_room_type', 0.0, 0.7476502825340035)), (1.0, ('assigned_room_type', 3.0, 0.14311270125223613)), (1.0, ('assigned_room_type', 5.0, 0.020870602265951103)), (1.0, ('assigned_room_type', 4.0, 0.04358690405202033)), (1.0, ('assigned_room_type', 7.0, 0.00573586620098248)), (1.0, ('assigned_room_type', 1.0, 0.0113865462702672)), (1.0, ('assigned_room_type', 6.0, 0.017406366243575545)), (1.0, ('assigned_room_type', 2.0, 0.009881591276940114)), (1.0, ('assigned_room_type', 8.0, 8.51861316977596e-05)), (1.0, ('assigned_room_type', 10.0, 2.8395377232586536e-05)), (1.0, ('assigned_room_type', 9.0, 0.0002555583950932788)), (1.0, ('distribution_channel', 3.0, 0.908595280688304)), (1.0, ('distribution_channel', 1.0, 0.05826731408126757)), (1.0, ('distribution_channel', 0.0, 0.03217196240452055)), (1.0, ('distribution_channel', 2.0, 0.0009370474486753556)), (1.0, ('distribution_channel', 4.0, 2.8395377232586536e-05)), (1.0, ('hotel', 0.0, 0.7495243774313541)), (1.0, ('hotel', 1.0, 0.2504756225686458)), (1.0, ('adults', 2.0, 0.8484538717096857)), (1.0, ('adults', 1.0, 0.14955845188403327)), (1.0, ('adults', 0.0, 0.0019876764062810573)), (1.0, ('customer_type', 2.0, 0.8245165687026152)), (1.0, ('customer_type', 3.0, 0.1450719822812846)), (1.0, ('customer_type', 0.0, 0.029076866286168613)), (1.0, ('customer_type', 1.0, 0.0013345827299315672)), (1.0, ('reserved_room_type', 0.0, 0.7624158786949484)), (1.0, ('reserved_room_type', 3.0, 0.13743362580571883)), (1.0, ('reserved_room_type', 5.0, 0.019876764062810574)), (1.0, ('reserved_room_type', 4.0, 0.042422693585484283)), (1.0, ('reserved_room_type', 7.0, 0.0055938893148195475)), (1.0, ('reserved_room_type', 1.0, 0.008149473265752336)), (1.0, ('reserved_room_type', 6.0, 0.01712241247124968)), (1.0, ('reserved_room_type', 2.0, 0.006928472044751115)), (1.0, ('reserved_room_type', 8.0, 5.679075446517307e-05)), (1.0, ('market_segment', 6.0, 0.46894965499616664)), (1.0, ('market_segment', 5.0, 0.18630207002300025)), (1.0, ('market_segment', 4.0, 0.2757475083056478)), (1.0, ('market_segment', 3.0, 0.04415481159667206)), (1.0, ('market_segment', 2.0, 0.021864440469091632)), (1.0, ('market_segment', 1.0, 0.0018173041428855383)), (1.0, ('market_segment', 0.0, 0.0011358150893034614)), (1.0, ('market_segment', 7.0, 2.8395377232586536e-05)), (1.0, ('adr', 4.0, 0.10920862083652781)), (1.0, ('adr', 2.0, 0.07218104892523497)), (1.0, ('adr', 0.0, 0.05781298804554619)), (1.0, ('adr', 6.0, 0.09824800522474941)), (1.0, ('adr', 1.0, 0.13325950535252862)), (1.0, ('adr', 8.0, 0.1016554504926598)), (1.0, ('adr', 5.0, 0.11040122668029645)), (1.0, ('adr', 9.0, 0.1037283130306386)), (1.0, ('adr', 7.0, 0.11094073884771559)), (1.0, ('adr', 3.0, 0.10256410256410256)), (1.0, ('stays_in_week_nights', 1.0, 0.22179629156373343)), (1.0, ('stays_in_week_nights', 5.0, 0.1265581963256382)), (1.0, ('stays_in_week_nights', 2.0, 0.33790498906777977)), (1.0, ('stays_in_week_nights', 3.0, 0.1925490530141693)), (1.0, ('stays_in_week_nights', 0.0, 0.04256467047164721)), (1.0, ('stays_in_week_nights', 4.0, 0.07862679955703211)), (1.0, ('is_canceled', 1.0, 1.0))]\n"
     ]
    }
   ],
   "source": [
    "# likelihood = df_selected.mapPartitions(mapper_likelihood).groupByKey().flatMap(reducer1).groupByKey().flatMap(reducer2).groupByKey().flatMap(reducer3).collect()\n",
    "likelihood = df.rdd.mapPartitions(mapper_likelihood).groupByKey().flatMap(reducer1).groupByKey().flatMap(reducer2).groupByKey().flatMap(reducer3).collect()\n",
    "print( \"Posterior probability:\", likelihood)"
   ]
  },
  {
   "cell_type": "code",
   "execution_count": 121,
   "metadata": {},
   "outputs": [],
   "source": [
    "# Define the predict function for naive bayes\n",
    "def predict(row):\n",
    "    \n",
    "    dict = {} # Label and probability\n",
    "    for label in prior_probabilities:\n",
    "        prob = prior_probabilities[label]\n",
    "        for feature in features_columns:\n",
    "            value = row[feature]\n",
    "            for tup in likelihood:\n",
    "                if tup[0] == label and tup[1][0] == feature and tup[1][1] == value:\n",
    "                    prob *= tup[1][2]\n",
    "                    break\n",
    "        dict[label] = prob\n",
    "    return max(dict, key=dict.get)\n",
    "        \n"
   ]
  },
  {
   "cell_type": "code",
   "execution_count": 122,
   "metadata": {},
   "outputs": [
    {
     "name": "stdout",
     "output_type": "stream",
     "text": [
      "Training Accuracy:  0.7757330104753382\n"
     ]
    }
   ],
   "source": [
    "# Training Accuracy\n",
    "def mapper (rows) :\n",
    "    result = []\n",
    "    for row in rows:\n",
    "        if predict(row) == row[label_column]:\n",
    "            result.append((0,1))\n",
    "        else:\n",
    "            result.append((0,0))\n",
    "    return result\n",
    "\n",
    "def reducer (row) :\n",
    "    count = 0\n",
    "    for val in row[1]:\n",
    "        count += val\n",
    "    return [(0, count)]\n",
    "\n",
    "correct = df.rdd.mapPartitions(mapper).groupByKey().flatMap(reducer).collect()\n",
    "total = df.count()\n",
    "accuracy = correct[0][1] / total\n",
    "print(\"Training Accuracy: \", accuracy)\n",
    "\n"
   ]
  },
  {
   "cell_type": "code",
   "execution_count": 123,
   "metadata": {},
   "outputs": [
    {
     "name": "stdout",
     "output_type": "stream",
     "text": [
      "Testing Accuracy:  0.7701604413189035\n"
     ]
    }
   ],
   "source": [
    "correct = df_test.rdd.mapPartitions(mapper).groupByKey().flatMap(reducer).collect()\n",
    "total = df_test.count()\n",
    "accuracy = correct[0][1] / total\n",
    "print(\"Testing Accuracy: \", accuracy)"
   ]
  }
 ],
 "metadata": {
  "kernelspec": {
   "display_name": "Python 3",
   "language": "python",
   "name": "python3"
  },
  "language_info": {
   "codemirror_mode": {
    "name": "ipython",
    "version": 3
   },
   "file_extension": ".py",
   "mimetype": "text/x-python",
   "name": "python",
   "nbconvert_exporter": "python",
   "pygments_lexer": "ipython3",
   "version": "3.11.5"
  }
 },
 "nbformat": 4,
 "nbformat_minor": 2
}
