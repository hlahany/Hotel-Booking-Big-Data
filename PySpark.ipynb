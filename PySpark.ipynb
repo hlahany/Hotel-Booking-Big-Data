{
 "cells": [
  {
   "cell_type": "code",
   "execution_count": 18,
   "metadata": {},
   "outputs": [],
   "source": [
    "import numpy as np\n",
    "import pandas as pd\n",
    "import spark\n",
    "from math import log\n",
    "from pyspark.sql import SparkSession\n",
    "from pyspark.ml.feature import QuantileDiscretizer"
   ]
  },
  {
   "cell_type": "code",
   "execution_count": 19,
   "metadata": {},
   "outputs": [],
   "source": [
    "spark = SparkSession.builder.appName(\"NaiveBayes\").getOrCreate()\n",
    "\n",
    "sc = spark.sparkContext\n",
    "sc.setLogLevel(\"ERROR\")"
   ]
  },
  {
   "cell_type": "code",
   "execution_count": 20,
   "metadata": {},
   "outputs": [],
   "source": [
    "# Read the data from the CSV file\n",
    "df = spark.read.option(\"header\", True).option(\"inferSchema\", True).csv('hotel_bookings_cleaned.csv')"
   ]
  },
  {
   "cell_type": "code",
   "execution_count": 21,
   "metadata": {},
   "outputs": [
    {
     "data": {
      "text/plain": [
       "DataFrame[is_canceled: int]"
      ]
     },
     "execution_count": 21,
     "metadata": {},
     "output_type": "execute_result"
    }
   ],
   "source": [
    "y_train = df.select(\"is_canceled\")\n",
    "y_train"
   ]
  },
  {
   "cell_type": "code",
   "execution_count": 22,
   "metadata": {},
   "outputs": [],
   "source": [
    "# Remove the target column\n",
    "df = df.drop('is_canceled')"
   ]
  },
  {
   "cell_type": "code",
   "execution_count": 23,
   "metadata": {},
   "outputs": [
    {
     "name": "stdout",
     "output_type": "stream",
     "text": [
      "(118732, 27)\n",
      "['lead_time', 'arrival_date_week_number', 'stays_in_weekend_nights', 'stays_in_week_nights', 'adults', 'children', 'babies', 'is_repeated_guest', 'previous_cancellations', 'previous_bookings_not_canceled', 'booking_changes', 'days_in_waiting_list', 'adr', 'required_car_parking_spaces', 'total_of_special_requests']\n"
     ]
    }
   ],
   "source": [
    "# Select the numeric columns of type int, float\n",
    "df_numeric = df.select([column for column in df.columns if str(df.schema[column].dataType) in ['IntegerType()', 'DoubleType()']])\n",
    "\n",
    "# Display the count of rows and columns of df\n",
    "print((df.count(), len(df.columns)))\n",
    "\n",
    "# Convert to list\n",
    "columns_numeric = df_numeric.columns\n",
    "print(columns_numeric)"
   ]
  },
  {
   "cell_type": "code",
   "execution_count": 24,
   "metadata": {},
   "outputs": [],
   "source": [
    "discretizer = QuantileDiscretizer(numBuckets=10, inputCols=columns_numeric, outputCols=[column + \"_discretized\" for column in columns_numeric])"
   ]
  },
  {
   "cell_type": "code",
   "execution_count": 25,
   "metadata": {},
   "outputs": [],
   "source": [
    "df_discretized = discretizer.fit(df).transform(df)"
   ]
  },
  {
   "cell_type": "code",
   "execution_count": 27,
   "metadata": {},
   "outputs": [
    {
     "name": "stdout",
     "output_type": "stream",
     "text": [
      "42\n"
     ]
    }
   ],
   "source": [
    "print(len(df_discretized.columns))"
   ]
  },
  {
   "cell_type": "code",
   "execution_count": 28,
   "metadata": {},
   "outputs": [],
   "source": [
    "# Remove the original columns\n",
    "df_discretized = df_discretized.drop(*columns_numeric)"
   ]
  },
  {
   "cell_type": "code",
   "execution_count": 29,
   "metadata": {},
   "outputs": [
    {
     "name": "stdout",
     "output_type": "stream",
     "text": [
      "+------------+------------+----+-------+--------------+--------------------+------------------+------------------+------------+-------------+------------------+-----------------------+---------------------+------------------------------------+-----------------------------------+--------------------------------+------------------+--------------------+------------------+-----------------------------+----------------------------------+------------------------------------------+---------------------------+--------------------------------+---------------+---------------------------------------+-------------------------------------+\n",
      "|       hotel|arrival_date|meal|country|market_segment|distribution_channel|reserved_room_type|assigned_room_type|deposit_type|customer_type|reservation_status|reservation_status_date|lead_time_discretized|arrival_date_week_number_discretized|stays_in_weekend_nights_discretized|stays_in_week_nights_discretized|adults_discretized|children_discretized|babies_discretized|is_repeated_guest_discretized|previous_cancellations_discretized|previous_bookings_not_canceled_discretized|booking_changes_discretized|days_in_waiting_list_discretized|adr_discretized|required_car_parking_spaces_discretized|total_of_special_requests_discretized|\n",
      "+------------+------------+----+-------+--------------+--------------------+------------------+------------------+------------+-------------+------------------+-----------------------+---------------------+------------------------------------+-----------------------------------+--------------------------------+------------------+--------------------+------------------+-----------------------------+----------------------------------+------------------------------------------+---------------------------+--------------------------------+---------------+---------------------------------------+-------------------------------------+\n",
      "|Resort Hotel|  2015-07-01|  BB|    PRT|        Direct|              Direct|                 C|                 C|  No Deposit|    Transient|         Check-Out|             2015-07-01|                  9.0|                                 5.0|                                1.0|                             0.0|               2.0|                 1.0|               1.0|                          1.0|                               1.0|                                       1.0|                        2.0|                             1.0|            0.0|                                    1.0|                                  1.0|\n",
      "|Resort Hotel|  2015-07-01|  BB|    PRT|        Direct|              Direct|                 C|                 C|  No Deposit|    Transient|         Check-Out|             2015-07-01|                  9.0|                                 5.0|                                1.0|                             0.0|               2.0|                 1.0|               1.0|                          1.0|                               1.0|                                       1.0|                        2.0|                             1.0|            0.0|                                    1.0|                                  1.0|\n",
      "|Resort Hotel|  2015-07-01|  BB|    GBR|        Direct|              Direct|                 A|                 C|  No Deposit|    Transient|         Check-Out|             2015-07-02|                  1.0|                                 5.0|                                1.0|                             1.0|               1.0|                 1.0|               1.0|                          1.0|                               1.0|                                       1.0|                        1.0|                             1.0|            3.0|                                    1.0|                                  1.0|\n",
      "|Resort Hotel|  2015-07-01|  BB|    GBR|     Corporate|           Corporate|                 A|                 A|  No Deposit|    Transient|         Check-Out|             2015-07-02|                  2.0|                                 5.0|                                1.0|                             1.0|               1.0|                 1.0|               1.0|                          1.0|                               1.0|                                       1.0|                        1.0|                             1.0|            3.0|                                    1.0|                                  1.0|\n",
      "|Resort Hotel|  2015-07-01|  BB|    GBR|     Online TA|               TA/TO|                 A|                 A|  No Deposit|    Transient|         Check-Out|             2015-07-03|                  2.0|                                 5.0|                                1.0|                             2.0|               2.0|                 1.0|               1.0|                          1.0|                               1.0|                                       1.0|                        1.0|                             1.0|            5.0|                                    1.0|                                  2.0|\n",
      "|Resort Hotel|  2015-07-01|  BB|    GBR|     Online TA|               TA/TO|                 A|                 A|  No Deposit|    Transient|         Check-Out|             2015-07-03|                  2.0|                                 5.0|                                1.0|                             2.0|               2.0|                 1.0|               1.0|                          1.0|                               1.0|                                       1.0|                        1.0|                             1.0|            5.0|                                    1.0|                                  2.0|\n",
      "|Resort Hotel|  2015-07-01|  BB|    PRT|        Direct|              Direct|                 C|                 C|  No Deposit|    Transient|         Check-Out|             2015-07-03|                  0.0|                                 5.0|                                1.0|                             2.0|               2.0|                 1.0|               1.0|                          1.0|                               1.0|                                       1.0|                        1.0|                             1.0|            6.0|                                    1.0|                                  1.0|\n",
      "|Resort Hotel|  2015-07-01|  FB|    PRT|        Direct|              Direct|                 C|                 C|  No Deposit|    Transient|         Check-Out|             2015-07-03|                  1.0|                                 5.0|                                1.0|                             2.0|               2.0|                 1.0|               1.0|                          1.0|                               1.0|                                       1.0|                        1.0|                             1.0|            5.0|                                    1.0|                                  2.0|\n",
      "|Resort Hotel|  2015-07-01|  BB|    PRT|     Online TA|               TA/TO|                 A|                 A|  No Deposit|    Transient|          Canceled|             2015-05-06|                  5.0|                                 5.0|                                1.0|                             3.0|               2.0|                 1.0|               1.0|                          1.0|                               1.0|                                       1.0|                        1.0|                             1.0|            3.0|                                    1.0|                                  2.0|\n",
      "|Resort Hotel|  2015-07-01|  HB|    PRT| Offline TA/TO|               TA/TO|                 D|                 D|  No Deposit|    Transient|          Canceled|             2015-04-22|                  5.0|                                 5.0|                                1.0|                             3.0|               2.0|                 1.0|               1.0|                          1.0|                               1.0|                                       1.0|                        1.0|                             1.0|            6.0|                                    1.0|                                  1.0|\n",
      "|Resort Hotel|  2015-07-01|  BB|    PRT|     Online TA|               TA/TO|                 E|                 E|  No Deposit|    Transient|          Canceled|             2015-06-23|                  2.0|                                 5.0|                                1.0|                             4.0|               2.0|                 1.0|               1.0|                          1.0|                               1.0|                                       1.0|                        1.0|                             1.0|            7.0|                                    1.0|                                  1.0|\n",
      "|Resort Hotel|  2015-07-01|  HB|    PRT|     Online TA|               TA/TO|                 D|                 D|  No Deposit|    Transient|         Check-Out|             2015-07-05|                  3.0|                                 5.0|                                1.0|                             4.0|               2.0|                 1.0|               1.0|                          1.0|                               1.0|                                       1.0|                        1.0|                             1.0|            8.0|                                    1.0|                                  1.0|\n",
      "|Resort Hotel|  2015-07-01|  BB|    USA|     Online TA|               TA/TO|                 D|                 E|  No Deposit|    Transient|         Check-Out|             2015-07-05|                  4.0|                                 5.0|                                1.0|                             4.0|               2.0|                 1.0|               1.0|                          1.0|                               1.0|                                       1.0|                        1.0|                             1.0|            5.0|                                    1.0|                                  3.0|\n",
      "|Resort Hotel|  2015-07-01|  HB|    ESP|     Online TA|               TA/TO|                 G|                 G|  No Deposit|    Transient|         Check-Out|             2015-07-05|                  2.0|                                 5.0|                                1.0|                             4.0|               2.0|                 1.0|               1.0|                          1.0|                               1.0|                                       1.0|                        2.0|                             1.0|            8.0|                                    1.0|                                  2.0|\n",
      "|Resort Hotel|  2015-07-01|  BB|    PRT|     Online TA|               TA/TO|                 E|                 E|  No Deposit|    Transient|         Check-Out|             2015-07-05|                  3.0|                                 5.0|                                1.0|                             4.0|               2.0|                 1.0|               1.0|                          1.0|                               1.0|                                       1.0|                        1.0|                             1.0|            4.0|                                    1.0|                                  1.0|\n",
      "|Resort Hotel|  2015-07-01|  BB|    IRL|     Online TA|               TA/TO|                 D|                 E|  No Deposit|    Transient|         Check-Out|             2015-07-05|                  4.0|                                 5.0|                                1.0|                             4.0|               2.0|                 1.0|               1.0|                          1.0|                               1.0|                                       1.0|                        1.0|                             1.0|            5.0|                                    1.0|                                  3.0|\n",
      "|Resort Hotel|  2015-07-01|  BB|    PRT| Offline TA/TO|               TA/TO|                 E|                 E|  No Deposit|     Contract|         Check-Out|             2015-07-05|                  3.0|                                 5.0|                                1.0|                             4.0|               2.0|                 1.0|               1.0|                          1.0|                               1.0|                                       1.0|                        1.0|                             1.0|            5.0|                                    1.0|                                  1.0|\n",
      "|Resort Hotel|  2015-07-01|  BB|    IRL|     Online TA|               TA/TO|                 A|                 E|  No Deposit|    Transient|         Check-Out|             2015-07-02|                  2.0|                                 5.0|                                1.0|                             1.0|               2.0|                 1.0|               1.0|                          1.0|                               1.0|                                       1.0|                        1.0|                             1.0|            4.0|                                    1.0|                                  1.0|\n",
      "|Resort Hotel|  2015-07-01|  BB|    FRA|     Corporate|           Corporate|                 A|                 G|  No Deposit|    Transient|         Check-Out|             2015-07-02|                  0.0|                                 5.0|                                1.0|                             1.0|               2.0|                 1.0|               1.0|                          1.0|                               1.0|                                       1.0|                        1.0|                             1.0|            6.0|                                    1.0|                                  1.0|\n",
      "|Resort Hotel|  2015-07-01|  BB|    GBR|        Direct|              Direct|                 G|                 G|  No Deposit|    Transient|         Check-Out|             2015-07-05|                  1.0|                                 5.0|                                1.0|                             4.0|               2.0|                 1.0|               1.0|                          1.0|                               1.0|                                       1.0|                        1.0|                             1.0|            8.0|                                    1.0|                                  2.0|\n",
      "+------------+------------+----+-------+--------------+--------------------+------------------+------------------+------------+-------------+------------------+-----------------------+---------------------+------------------------------------+-----------------------------------+--------------------------------+------------------+--------------------+------------------+-----------------------------+----------------------------------+------------------------------------------+---------------------------+--------------------------------+---------------+---------------------------------------+-------------------------------------+\n",
      "only showing top 20 rows\n",
      "\n"
     ]
    }
   ],
   "source": [
    "df_discretized.show()"
   ]
  },
  {
   "cell_type": "markdown",
   "metadata": {},
   "source": [
    "## Naive Bayes Classifier"
   ]
  },
  {
   "cell_type": "code",
   "execution_count": 30,
   "metadata": {},
   "outputs": [
    {
     "name": "stdout",
     "output_type": "stream",
     "text": [
      "['hotel', 'arrival_date', 'meal', 'country', 'market_segment', 'distribution_channel', 'reserved_room_type', 'assigned_room_type', 'deposit_type', 'customer_type', 'reservation_status', 'reservation_status_date', 'lead_time_discretized', 'arrival_date_week_number_discretized', 'stays_in_weekend_nights_discretized', 'stays_in_week_nights_discretized', 'adults_discretized', 'children_discretized', 'babies_discretized', 'is_repeated_guest_discretized', 'previous_cancellations_discretized', 'previous_bookings_not_canceled_discretized', 'booking_changes_discretized', 'days_in_waiting_list_discretized', 'adr_discretized', 'required_car_parking_spaces_discretized', 'total_of_special_requests_discretized']\n"
     ]
    }
   ],
   "source": [
    "label_column = \"is_canceled\"\n",
    "features_columns = df_discretized.columns\n",
    "print(features_columns)"
   ]
  },
  {
   "cell_type": "markdown",
   "metadata": {},
   "source": [
    "#### Prior Probabilities"
   ]
  },
  {
   "cell_type": "code",
   "execution_count": 31,
   "metadata": {},
   "outputs": [],
   "source": [
    "# [(c0, 1), (c1, 1)]\n",
    "def mapper(rows):\n",
    "    result = []\n",
    "    for row in rows:\n",
    "        result.append((row[label_column], 1))\n",
    "    return result\n",
    "\n",
    "# [(c0, 5), (c1, 10)]\n",
    "def reducer(row):\n",
    "    key, values = row\n",
    "    return [(key, sum(values))]"
   ]
  },
  {
   "cell_type": "code",
   "execution_count": null,
   "metadata": {},
   "outputs": [],
   "source": [
    "prior = df_discretized.rdd.mapPartitions(mapper).groupByKey().flatMap(reducer).collect()\n",
    "total = sum([x[1] for x in prior])\n",
    "prior_dict = dict([(x[0], x[1]/total) for x in prior])\n",
    "print(\"Prior probability: \", prior_dict)"
   ]
  },
  {
   "cell_type": "markdown",
   "metadata": {},
   "source": [
    "#### Likelihood Probabilities"
   ]
  },
  {
   "cell_type": "code",
   "execution_count": 33,
   "metadata": {},
   "outputs": [],
   "source": [
    "# dict = { \n",
    "#     c0: { \n",
    "#             f1: { v1: 0, v2: 0}, \n",
    "#             f2: { v1: 0, v2: 0}\n",
    "#         },\n",
    "#     c1: { \n",
    "#             f1: { v1: 0, v2: 0}, \n",
    "#             f2: { v1: 0, v2: 0}\n",
    "#         }\n",
    "# }\n",
    "\n",
    "def mapper(split):\n",
    "    result = []\n",
    "    dict = {}\n",
    "\n",
    "    for row in split:\n",
    "        label = row[label_column]\n",
    "        if label not in dict:\n",
    "            dict[label] = {}\n",
    "\n",
    "        for feature in features_columns:\n",
    "            value = row[feature]\n",
    "            if feature not in dict[label]:\n",
    "                dict[label][feature] = {}\n",
    "\n",
    "            if value not in dict[label][feature]:\n",
    "                dict[label][feature][value] = 0\n",
    "\n",
    "            dict[label][feature][value] += 1\n",
    "\n",
    "    for label in dict:\n",
    "        for feature in dict[label]:\n",
    "            for value in dict[label][feature]:\n",
    "                result.append((label, (feature, value, dict[label][feature][value])))\n",
    "    return result\n",
    "\n",
    "# [<c0, (f1, v1, 5)>, <c0, (f1, v2, 10)>]\n",
    "# [<c1, (f1, v1, 2)>, <c1, (f1, v2, 3)>]\n",
    "\n",
    "def reducer1(row):\n",
    "    key, tups = row\n",
    "    dict = {}\n",
    "    result = []\n",
    "\n",
    "    for tup in tups:\n",
    "        feature, value, count = tup\n",
    "        if feature not in dict:\n",
    "            dict[feature] = {}\n",
    "\n",
    "        if value not in dict[feature]:\n",
    "            dict[feature][value] = 0\n",
    "\n",
    "        dict[feature][value] += count\n",
    "\n",
    "    for feature in dict:\n",
    "        for value in dict[feature]:\n",
    "            result.append((key, (feature, value, dict[feature][value])))\n",
    "\n",
    "    return result\n",
    "\n",
    "# <c0, (f1, v1, 10, 15)>\n",
    "# <c0, (f1, v2, 5, 15)>\n",
    "# <c1, (f1, v1, 2, 5)>\n",
    "# <c1, (f1, v2, 3, 5)>\n",
    "\n",
    "def reducer2(row):\n",
    "    label, tups = row\n",
    "    dict = {}\n",
    "    result = []\n",
    "\n",
    "    for tup in tups:\n",
    "        feature, value, count = tup\n",
    "        if feature not in dict:\n",
    "            dict[feature] = 0\n",
    "\n",
    "        dict[feature] += count\n",
    "\n",
    "    for tup in tups:\n",
    "        feature, value, count = tup\n",
    "        result.append((label, (feature, value, count, dict[feature])))\n",
    "\n",
    "    return result"
   ]
  },
  {
   "cell_type": "code",
   "execution_count": null,
   "metadata": {},
   "outputs": [],
   "source": [
    "likelihood = df_discretized.rdd.mapPartitions(mapper).groupByKey().flatMap(reducer1).groupByKey().flatMap(reducer2).collect()\n",
    "print(likelihood)"
   ]
  }
 ],
 "metadata": {
  "kernelspec": {
   "display_name": "Python 3",
   "language": "python",
   "name": "python3"
  },
  "language_info": {
   "codemirror_mode": {
    "name": "ipython",
    "version": 3
   },
   "file_extension": ".py",
   "mimetype": "text/x-python",
   "name": "python",
   "nbconvert_exporter": "python",
   "pygments_lexer": "ipython3",
   "version": "3.11.5"
  }
 },
 "nbformat": 4,
 "nbformat_minor": 2
}
