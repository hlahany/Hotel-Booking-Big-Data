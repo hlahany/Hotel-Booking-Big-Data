{
 "cells": [
  {
   "cell_type": "code",
   "execution_count": 44,
   "metadata": {},
   "outputs": [],
   "source": [
    "import numpy as np\n",
    "import pandas as pd\n",
    "import os\n",
    "from pyspark.sql import SparkSession"
   ]
  },
  {
   "cell_type": "code",
   "execution_count": 45,
   "metadata": {},
   "outputs": [],
   "source": [
    "spark_home = \"D:/Programs/Spark/spark_unzipped\"\n",
    "os.environ[\"SPARK_HOME\"] = spark_home\n",
    "\n",
    "# Add Spark bin and executors to PATH\n",
    "os.environ[\"PATH\"] += os.pathsep + os.path.join(spark_home, \"bin\")\n",
    "os.environ[\"PATH\"] += os.pathsep + os.path.join(spark_home, \"sbin\")\n",
    "\n",
    "# Add Spark Python libraries to PYTHONPATH\n",
    "os.environ[\"PYTHONPATH\"] = os.path.join(spark_home, \"python\") + os.pathsep + os.environ.get(\"PYTHONPATH\", \"\")\n",
    "os.environ[\"PYTHONPATH\"] += os.pathsep + os.path.join(spark_home, \"python\", \"lib\")\n",
    "\n",
    "# Add PySpark to the system path\n",
    "os.environ[\"PATH\"] += os.pathsep + os.path.join(spark_home, \"python\", \"lib\", \"pyspark.zip\")\n",
    "os.environ[\"PATH\"] += os.pathsep + os.path.join(spark_home, \"python\", \"lib\", \"py4j-0.10.9-src.zip\")\n",
    "os.environ['PYSPARK_PYTHON'] = 'python'"
   ]
  },
  {
   "cell_type": "code",
   "execution_count": 46,
   "metadata": {},
   "outputs": [],
   "source": [
    "spark = SparkSession.builder.appName(\"HotelBooking\").getOrCreate()\n",
    "\n",
    "sc = spark.sparkContext\n",
    "sc.setLogLevel(\"ERROR\")"
   ]
  },
  {
   "cell_type": "code",
   "execution_count": 47,
   "metadata": {},
   "outputs": [],
   "source": [
    "# Read the data from the CSV file\n",
    "df = spark.read.option(\"header\", True).option(\"inferSchema\", True).csv('hotel_bookings_transformed.csv')"
   ]
  },
  {
   "cell_type": "code",
   "execution_count": 48,
   "metadata": {},
   "outputs": [
    {
     "data": {
      "text/plain": [
       "DataFrame[is_canceled: double]"
      ]
     },
     "execution_count": 48,
     "metadata": {},
     "output_type": "execute_result"
    }
   ],
   "source": [
    "y_train = df.select(\"is_canceled\")\n",
    "y_train"
   ]
  },
  {
   "cell_type": "code",
   "execution_count": 49,
   "metadata": {},
   "outputs": [
    {
     "data": {
      "text/plain": [
       "DataFrame[lead_time: double, arrival_date_week_number: double, stays_in_weekend_nights: double, stays_in_week_nights: double, adults: double, children: double, babies: double, is_repeated_guest: double, previous_cancellations: double, previous_bookings_not_canceled: double, booking_changes: double, days_in_waiting_list: double, adr: double, required_car_parking_spaces: double, total_of_special_requests: double, hotel: double, meal: double, country: double, market_segment: double, distribution_channel: double, reserved_room_type: double, assigned_room_type: double, deposit_type: double, customer_type: double, reservation_status: double]"
      ]
     },
     "execution_count": 49,
     "metadata": {},
     "output_type": "execute_result"
    }
   ],
   "source": [
    "x_data = df.drop('is_canceled')\n",
    "x_data"
   ]
  },
  {
   "cell_type": "markdown",
   "metadata": {},
   "source": [
    "## Naive Bayes Classifier"
   ]
  },
  {
   "cell_type": "code",
   "execution_count": 50,
   "metadata": {},
   "outputs": [
    {
     "name": "stdout",
     "output_type": "stream",
     "text": [
      "['is_canceled', 'lead_time', 'arrival_date_week_number', 'stays_in_weekend_nights', 'stays_in_week_nights', 'adults', 'children', 'babies', 'is_repeated_guest', 'previous_cancellations', 'previous_bookings_not_canceled', 'booking_changes', 'days_in_waiting_list', 'adr', 'required_car_parking_spaces', 'total_of_special_requests', 'hotel', 'meal', 'country', 'market_segment', 'distribution_channel', 'reserved_room_type', 'assigned_room_type', 'deposit_type', 'customer_type', 'reservation_status']\n",
      "26\n"
     ]
    }
   ],
   "source": [
    "label_column = \"is_canceled\"\n",
    "features_columns = df.columns\n",
    "print(features_columns)\n",
    "print(len(features_columns))"
   ]
  },
  {
   "cell_type": "markdown",
   "metadata": {},
   "source": [
    "#### Prior Probabilities"
   ]
  },
  {
   "cell_type": "code",
   "execution_count": 51,
   "metadata": {},
   "outputs": [],
   "source": [
    "# Output: [(c0, 1), (c1, 1), (c0, 1), (c0, 1), (c1, 1)]\n",
    "def mapper_prior(rows):\n",
    "    result = []\n",
    "    for row in rows:\n",
    "        result.append((row[label_column], 1))\n",
    "    return result\n",
    "\n",
    "# Output: [(c0, 3), (c1, 2)]\n",
    "def reducer_prior(row):\n",
    "    key, values = row\n",
    "    return [(key, sum(values))]"
   ]
  },
  {
   "cell_type": "code",
   "execution_count": 52,
   "metadata": {},
   "outputs": [],
   "source": [
    "# Select the first 100 rows\n",
    "# df_selected = df.take(100)\n",
    "# df_selected = sc.parallelize(df_selected)"
   ]
  },
  {
   "cell_type": "code",
   "execution_count": 53,
   "metadata": {},
   "outputs": [],
   "source": [
    "prior = df.rdd.mapPartitions(mapper_prior).groupByKey().flatMap(reducer_prior)\n",
    "# prior = df_selected.mapPartitions(mapper_prior).groupByKey().flatMap(reducer_prior)"
   ]
  },
  {
   "cell_type": "code",
   "execution_count": 54,
   "metadata": {},
   "outputs": [],
   "source": [
    "# Calculate the total count per class\n",
    "total_count = prior.map(lambda x: x[1]).sum()"
   ]
  },
  {
   "cell_type": "code",
   "execution_count": 55,
   "metadata": {},
   "outputs": [
    {
     "name": "stdout",
     "output_type": "stream",
     "text": [
      "Prior probability: {0.0: 0.628221540949365, 1.0: 0.37177845905063506}\n"
     ]
    }
   ],
   "source": [
    "# Calculate prior probabilities\n",
    "prior_probabilities = prior.map(lambda x: (x[0], x[1]/total_count)).collectAsMap()\n",
    "\n",
    "print(\"Prior probability:\", prior_probabilities)"
   ]
  },
  {
   "cell_type": "markdown",
   "metadata": {},
   "source": [
    "#### Likelihood Probabilities"
   ]
  },
  {
   "cell_type": "code",
   "execution_count": 56,
   "metadata": {},
   "outputs": [],
   "source": [
    "# dict = { \n",
    "#     c0: { \n",
    "#             f1: { v1: 0, v2: 0}, \n",
    "#             f2: { v1: 0, v2: 0}\n",
    "#         },\n",
    "#     c1: { \n",
    "#             f1: { v1: 0, v2: 0}, \n",
    "#             f2: { v1: 0, v2: 0}\n",
    "#         }\n",
    "# }\n",
    "\n",
    "def mapper_likelihood(split):\n",
    "    mapper_result = []\n",
    "    mapper_dict = {}\n",
    "\n",
    "    for row in split:\n",
    "        label = row[label_column]\n",
    "        if label not in mapper_dict:\n",
    "            mapper_dict[label] = {}\n",
    "\n",
    "        for feature in features_columns:\n",
    "            value = row[feature]\n",
    "            if feature not in mapper_dict[label]:\n",
    "                mapper_dict[label][feature] = {}\n",
    "\n",
    "            if value not in mapper_dict[label][feature]:\n",
    "                mapper_dict[label][feature][value] = 0\n",
    "\n",
    "            mapper_dict[label][feature][value] += 1\n",
    "\n",
    "    for label in mapper_dict:\n",
    "        for feature in mapper_dict[label]:\n",
    "            for value in mapper_dict[label][feature]:\n",
    "                mapper_result.append((label, (feature, value, mapper_dict[label][feature][value])))\n",
    "    return mapper_result\n",
    "\n",
    "# Output:\n",
    "# [<c0, (f1, v1, 5)>, <c0, (f1, v2, 10)>]\n",
    "# [<c1, (f1, v1, 2)>, <c1, (f1, v2, 3)>]\n",
    "def reducer1(row):\n",
    "    key, tups = row\n",
    "    reducer1_dict = {}\n",
    "    reducer1_result = []\n",
    "\n",
    "    for tup in tups:\n",
    "        feature, value, count = tup\n",
    "        if feature not in reducer1_dict:\n",
    "            reducer1_dict[feature] = {}\n",
    "\n",
    "        if value not in reducer1_dict[feature]:\n",
    "            reducer1_dict[feature][value] = 0\n",
    "\n",
    "        reducer1_dict[feature][value] += count\n",
    "\n",
    "    for feature in reducer1_dict:\n",
    "        for value in reducer1_dict[feature]:\n",
    "            reducer1_result.append((key, (feature, value, reducer1_dict[feature][value])))\n",
    "\n",
    "    return reducer1_result\n",
    "\n",
    "# Output:\n",
    "# [<c0, (f1, v1, 10, 15)>, <c0, (f1, v2, 5, 15)>]\n",
    "# [<c1, (f1, v1, 2, 5)>, <c1, (f1, v2, 3, 5)>]\n",
    "def reducer2(row):\n",
    "    label, tups = row\n",
    "    reducer2_dict = {}\n",
    "    reducer2_result = []\n",
    "\n",
    "    for tup in tups:\n",
    "        feature, value, count = tup\n",
    "        if feature not in reducer2_dict:\n",
    "            reducer2_dict[feature] = 0\n",
    "\n",
    "        reducer2_dict[feature] += count\n",
    "\n",
    "    for tup in tups:\n",
    "        feature, value, count = tup\n",
    "        reducer2_result.append((label, (feature, value, count, reducer2_dict[feature])))\n",
    "\n",
    "    return reducer2_result\n",
    "\n",
    "# Output: \n",
    "# [<c0, (f1, v1, 10/15)>, <c0, (f1, v2, 5/15)>]\n",
    "# [<c1, (f1, v1, 2/5)>, <c1, (f1, v2, 3/5)>]\n",
    "def reducer3(row):\n",
    "    label, tups = row\n",
    "    reducer3_result = []\n",
    "\n",
    "    for tup in tups:\n",
    "        feature, value, count, total = tup\n",
    "        reducer3_result.append((label, (feature, value, count/total)))\n",
    "\n",
    "    return reducer3_result"
   ]
  },
  {
   "cell_type": "code",
   "execution_count": 57,
   "metadata": {},
   "outputs": [
    {
     "name": "stdout",
     "output_type": "stream",
     "text": [
      "[(0.0, ('is_canceled', 0.0, 1.0)), (0.0, ('lead_time', 9.0, 0.053251106046386915)), (0.0, ('lead_time', 1.0, 0.1350717254323636)), (0.0, ('lead_time', 2.0, 0.11474728515886848)), (0.0, ('lead_time', 0.0, 0.14240514814318272)), (0.0, ('lead_time', 3.0, 0.10131384904142647)), (0.0, ('lead_time', 4.0, 0.10076417750368682)), (0.0, ('lead_time', 5.0, 0.09364526075881485)), (0.0, ('lead_time', 6.0, 0.08908700898243732)), (0.0, ('lead_time', 8.0, 0.08397908566832014)), (0.0, ('lead_time', 7.0, 0.08573535326451268)), (0.0, ('arrival_date_week_number', 4.0, 0.10229253251106046)), (0.0, ('arrival_date_week_number', 5.0, 0.09525405550341869)), (0.0, ('arrival_date_week_number', 6.0, 0.10176967421906422)), (0.0, ('arrival_date_week_number', 7.0, 0.09764043437458104)), (0.0, ('arrival_date_week_number', 8.0, 0.08337578763909372)), (0.0, ('arrival_date_week_number', 9.0, 0.1233811502882424)), (0.0, ('arrival_date_week_number', 0.0, 0.0923180050945167)), (0.0, ('arrival_date_week_number', 1.0, 0.11490816463332887)), (0.0, ('arrival_date_week_number', 2.0, 0.08171336640300308)), (0.0, ('arrival_date_week_number', 3.0, 0.10734682933369084)), (0.0, ('stays_in_weekend_nights', 0.0, 0.43078160611342003)), (0.0, ('stays_in_weekend_nights', 1.0, 0.26165705858694194)), (0.0, ('stays_in_weekend_nights', 2.0, 0.30756133529963803)), (0.0, ('stays_in_week_nights', 0.0, 0.07551950663627832)), (0.0, ('stays_in_week_nights', 1.0, 0.27153773964338385)), (0.0, ('stays_in_week_nights', 2.0, 0.250623407963534)), (0.0, ('stays_in_week_nights', 4.0, 0.08104303525941815)), (0.0, ('stays_in_week_nights', 5.0, 0.13751173079501275)), (0.0, ('stays_in_week_nights', 3.0, 0.18376457970237298)), (0.0, ('adults', 2.0, 0.7826116101354069)), (0.0, ('adults', 1.0, 0.215524869285427)), (0.0, ('adults', 0.0, 0.001863520579166108)), (0.0, ('children', 0.0, 1.0)), (0.0, ('babies', 0.0, 1.0)), (0.0, ('is_repeated_guest', 0.0, 1.0)), (0.0, ('previous_cancellations', 0.0, 1.0)), (0.0, ('previous_bookings_not_canceled', 0.0, 1.0)), (0.0, ('booking_changes', 1.0, 0.2021048397908567)), (0.0, ('booking_changes', 0.0, 0.7978951602091433)), (0.0, ('days_in_waiting_list', 0.0, 1.0)), (0.0, ('adr', 0.0, 0.12472181257541225)), (0.0, ('adr', 3.0, 0.10033516557179246)), (0.0, ('adr', 5.0, 0.0941413058050677)), (0.0, ('adr', 6.0, 0.10316396299772088)), (0.0, ('adr', 8.0, 0.10122000268132457)), (0.0, ('adr', 4.0, 0.10821825982035126)), (0.0, ('adr', 1.0, 0.08123072797962193)), (0.0, ('adr', 2.0, 0.09855208472985655)), (0.0, ('adr', 7.0, 0.09041426464673549)), (0.0, ('adr', 9.0, 0.0980024131921169)), (0.0, ('required_car_parking_spaces', 0.0, 1.0)), (0.0, ('total_of_special_requests', 0.0, 0.48793403941547125)), (0.0, ('total_of_special_requests', 1.0, 0.34546185815793)), (0.0, ('total_of_special_requests', 2.0, 0.16660410242659873)), (0.0, ('hotel', 1.0, 0.3821960048263842)), (0.0, ('hotel', 0.0, 0.6178039951736157)), (0.0, ('meal', 0.0, 0.7687491620860705)), (0.0, ('meal', 1.0, 0.004290119318943558)), (0.0, ('meal', 2.0, 0.12667917951468025)), (0.0, ('meal', 3.0, 0.08849711757608258)), (0.0, ('meal', 4.0, 0.011784421504223087)), (0.0, ('country', 135.0, 0.28123072797962195)), (0.0, ('country', 59.0, 0.12961522992358224)), (0.0, ('country', 169.0, 0.0213433436117442)), (0.0, ('country', 51.0, 0.08557447379005229)), (0.0, ('country', 76.0, 0.03407963533985789)), (0.0, ('country', 56.0, 0.1135272824775439)), (0.0, ('country', 139.0, 0.004906823971041694)), (0.0, ('country', 124.0, 0.005711221343343612)), (0.0, ('country', 127.0, 0.00018769272020378066)), (0.0, ('country', 6.0, 0.002145059659471779)), (0.0, ('country', 133.0, 0.00942485587880413)), (0.0, ('country', 43.0, 0.08133798096259552)), (0.0, ('country', 15.0, 0.025043571524333022)), (0.0, ('country', 29.0, 0.01740179648746481)), (0.0, ('country', 34.0, 0.013741788443491085)), (0.0, ('country', 66.0, 0.0012468159270679715)), (0.0, ('country', 81.0, 0.03255128033248425)), (0.0, ('country', 123.0, 0.02300576484783483)), (0.0, ('country', 46.0, 0.00437055905617375)), (0.0, ('country', 140.0, 0.00524198954283416)), (0.0, ('country', 154.0, 0.010631451937257005)), (0.0, ('country', 11.0, 0.004276712696071859)), (0.0, ('country', 52.0, 0.0008714304866604103)), (0.0, ('country', 42.0, 0.001796487464807615)), (0.0, ('country', 25.0, 0.018662019037404477)), (0.0, ('country', 54.0, 0.005054296822630379)), (0.0, ('country', 113.0, 0.0006435178978415337)), (0.0, ('country', 27.0, 1.340662287169862e-05)), (0.0, ('country', 100.0, 0.0023729722482906555)), (0.0, ('country', 153.0, 0.0005496715377396433)), (0.0, ('country', 3.0, 0.0001340662287169862)), (0.0, ('country', 75.0, 0.00155516825311704)), (0.0, ('country', 31.0, 0.007199356482102158)), (0.0, ('country', 107.0, 0.0010054967153773965)), (0.0, ('country', 103.0, 0.002010993430754793)), (0.0, ('country', 166.0, 0.0006435178978415337)), (0.0, ('country', 148.0, 1.340662287169862e-05)), (0.0, ('country', 101.0, 0.0006167046520981365)), (0.0, ('country', 134.0, 0.0001340662287169862)), (0.0, ('country', 149.0, 0.0013138490414264647)), (0.0, ('country', 30.0, 0.0006569245207132323)), (0.0, ('country', 12.0, 0.013849041426464674)), (0.0, ('country', 23.0, 0.00022791258881887653)), (0.0, ('country', 99.0, 0.000992090092505698)), (0.0, ('country', 162.0, 0.0019573669392679983)), (0.0, ('country', 174.0, 0.0006569245207132323)), (0.0, ('country', 1.0, 0.0021048397908566834)), (0.0, ('country', 80.0, 0.00670331143584931)), (0.0, ('country', 40.0, 1.340662287169862e-05)), (0.0, ('country', 175.0, 1.340662287169862e-05)), (0.0, ('country', 37.0, 0.00016087947446038342)), (0.0, ('country', 176.0, 2.681324574339724e-05)), (0.0, ('country', 48.0, 0.0010993430754792867)), (0.0, ('country', 91.0, 0.0010457165839924923)), (0.0, ('country', 38.0, 0.00024131921169057516)), (0.0, ('country', 72.0, 0.0020512132993698888)), (0.0, ('country', 82.0, 8.043973723019171e-05)), (0.0, ('country', 71.0, 0.0010054967153773965)), (0.0, ('country', 77.0, 0.0007909907494302185)), (0.0, ('country', 28.0, 6.70331143584931e-05)), (0.0, ('country', 41.0, 0.0005362649148679448)), (0.0, ('country', 126.0, 0.0009116503552755061)), (0.0, ('country', 73.0, 0.00014747285158868482)), (0.0, ('country', 86.0, 0.00018769272020378066)), (0.0, ('country', 158.0, 0.0005496715377396433)), (0.0, ('country', 35.0, 0.0006435178978415337)), (0.0, ('country', 47.0, 8.043973723019171e-05)), (0.0, ('country', 108.0, 0.00010725298297358896)), (0.0, ('country', 117.0, 0.0003351655717924655)), (0.0, ('country', 121.0, 0.00017428609733208204)), (0.0, ('country', 171.0, 0.00018769272020378066)), (0.0, ('country', 63.0, 9.384636010189033e-05)), (0.0, ('country', 7.0, 8.043973723019171e-05)), (0.0, ('country', 85.0, 0.0022657192653170667)), (0.0, ('country', 98.0, 9.384636010189033e-05)), (0.0, ('country', 39.0, 0.00010725298297358896)), (0.0, ('country', 33.0, 0.0001340662287169862)), (0.0, ('country', 22.0, 0.0001340662287169862)), (0.0, ('country', 115.0, 8.043973723019171e-05)), (0.0, ('country', 36.0, 2.681324574339724e-05)), (0.0, ('country', 151.0, 6.70331143584931e-05)), (0.0, ('country', 165.0, 2.681324574339724e-05)), (0.0, ('country', 19.0, 0.000844617240917013)), (0.0, ('country', 32.0, 5.362649148679448e-05)), (0.0, ('country', 84.0, 0.00024131921169057516)), (0.0, ('country', 156.0, 4.0219868615095855e-05)), (0.0, ('country', 131.0, 0.0002010993430754793)), (0.0, ('country', 145.0, 0.00029494570317736965)), (0.0, ('country', 14.0, 1.340662287169862e-05)), (0.0, ('country', 168.0, 0.00030835232604906824)), (0.0, ('country', 142.0, 0.0002010993430754793)), (0.0, ('country', 92.0, 0.0001340662287169862)), (0.0, ('country', 94.0, 0.00029494570317736965)), (0.0, ('country', 4.0, 2.681324574339724e-05)), (0.0, ('country', 173.0, 8.043973723019171e-05)), (0.0, ('country', 13.0, 0.00010725298297358896)), (0.0, ('country', 132.0, 1.340662287169862e-05)), (0.0, ('country', 5.0, 0.00010725298297358896)), (0.0, ('country', 138.0, 5.362649148679448e-05)), (0.0, ('country', 50.0, 0.000281539080305671)), (0.0, ('country', 130.0, 0.00030835232604906824)), (0.0, ('country', 152.0, 0.0005496715377396433)), (0.0, ('country', 106.0, 4.0219868615095855e-05)), (0.0, ('country', 110.0, 0.00017428609733208204)), (0.0, ('country', 116.0, 2.681324574339724e-05)), (0.0, ('country', 49.0, 0.00025472583456227375)), (0.0, ('country', 105.0, 1.340662287169862e-05)), (0.0, ('country', 79.0, 0.0007105510122000268)), (0.0, ('country', 170.0, 2.681324574339724e-05)), (0.0, ('country', 125.0, 1.340662287169862e-05)), (0.0, ('country', 21.0, 1.340662287169862e-05)), (0.0, ('country', 128.0, 6.70331143584931e-05)), (0.0, ('country', 102.0, 1.340662287169862e-05)), (0.0, ('country', 157.0, 2.681324574339724e-05)), (0.0, ('country', 163.0, 0.000496045046252849)), (0.0, ('country', 69.0, 4.0219868615095855e-05)), (0.0, ('country', 44.0, 1.340662287169862e-05)), (0.0, ('country', 60.0, 9.384636010189033e-05)), (0.0, ('country', 161.0, 0.0002681324574339724)), (0.0, ('country', 150.0, 2.681324574339724e-05)), (0.0, ('country', 144.0, 4.0219868615095855e-05)), (0.0, ('country', 90.0, 2.681324574339724e-05)), (0.0, ('country', 53.0, 2.681324574339724e-05)), (0.0, ('country', 78.0, 0.00018769272020378066)), (0.0, ('country', 141.0, 2.681324574339724e-05)), (0.0, ('country', 97.0, 2.681324574339724e-05)), (0.0, ('country', 111.0, 1.340662287169862e-05)), (0.0, ('country', 129.0, 0.00012065960584528758)), (0.0, ('country', 160.0, 2.681324574339724e-05)), (0.0, ('country', 17.0, 1.340662287169862e-05)), (0.0, ('country', 87.0, 5.362649148679448e-05)), (0.0, ('country', 104.0, 4.0219868615095855e-05)), (0.0, ('country', 95.0, 0.00010725298297358896)), (0.0, ('country', 65.0, 0.00010725298297358896)), (0.0, ('country', 164.0, 2.681324574339724e-05)), (0.0, ('country', 109.0, 1.340662287169862e-05)), (0.0, ('country', 18.0, 4.0219868615095855e-05)), (0.0, ('country', 20.0, 1.340662287169862e-05)), (0.0, ('country', 119.0, 1.340662287169862e-05)), (0.0, ('country', 24.0, 0.0001340662287169862)), (0.0, ('country', 155.0, 1.340662287169862e-05)), (0.0, ('country', 136.0, 5.362649148679448e-05)), (0.0, ('country', 26.0, 5.362649148679448e-05)), (0.0, ('country', 0.0, 2.681324574339724e-05)), (0.0, ('country', 2.0, 1.340662287169862e-05)), (0.0, ('country', 147.0, 2.681324574339724e-05)), (0.0, ('country', 45.0, 1.340662287169862e-05)), (0.0, ('country', 58.0, 2.681324574339724e-05)), (0.0, ('country', 137.0, 1.340662287169862e-05)), (0.0, ('country', 68.0, 1.340662287169862e-05)), (0.0, ('country', 96.0, 1.340662287169862e-05)), (0.0, ('country', 9.0, 2.681324574339724e-05)), (0.0, ('country', 112.0, 4.0219868615095855e-05)), (0.0, ('country', 67.0, 5.362649148679448e-05)), (0.0, ('country', 62.0, 2.681324574339724e-05)), (0.0, ('country', 8.0, 1.340662287169862e-05)), (0.0, ('country', 114.0, 1.340662287169862e-05)), (0.0, ('country', 120.0, 1.340662287169862e-05)), (0.0, ('country', 89.0, 1.340662287169862e-05)), (0.0, ('country', 143.0, 1.340662287169862e-05)), (0.0, ('country', 10.0, 1.340662287169862e-05)), (0.0, ('country', 159.0, 1.340662287169862e-05)), (0.0, ('country', 146.0, 1.340662287169862e-05)), (0.0, ('country', 93.0, 2.681324574339724e-05)), (0.0, ('country', 57.0, 1.340662287169862e-05)), (0.0, ('market_segment', 3.0, 0.1408231666443223)), (0.0, ('market_segment', 2.0, 0.05524869285427001)), (0.0, ('market_segment', 6.0, 0.47726236760959917)), (0.0, ('market_segment', 5.0, 0.2125485990079099)), (0.0, ('market_segment', 1.0, 0.008540018769272021)), (0.0, ('market_segment', 4.0, 0.10312374312910577)), (0.0, ('market_segment', 0.0, 0.002453411985520847)), (0.0, ('distribution_channel', 1.0, 0.15964606515618715)), (0.0, ('distribution_channel', 0.0, 0.06727443357018367)), (0.0, ('distribution_channel', 3.0, 0.7709746614827725)), (0.0, ('distribution_channel', 4.0, 1.340662287169862e-05)), (0.0, ('distribution_channel', 2.0, 0.0020914331679849846)), (0.0, ('reserved_room_type', 2.0, 0.008338919426196542)), (0.0, ('reserved_room_type', 0.0, 0.6958841667783885)), (0.0, ('reserved_room_type', 3.0, 0.17496983509853867)), (0.0, ('reserved_room_type', 6.0, 0.01766992894489878)), (0.0, ('reserved_room_type', 4.0, 0.06137551950663628)), (0.0, ('reserved_room_type', 5.0, 0.02690709210349913)), (0.0, ('reserved_room_type', 7.0, 0.0047727577423247085)), (0.0, ('reserved_room_type', 8.0, 5.362649148679448e-05)), (0.0, ('reserved_room_type', 1.0, 0.010028153908030567)), (0.0, ('assigned_room_type', 2.0, 0.025539616570585868)), (0.0, ('assigned_room_type', 0.0, 0.5487330741386245)), (0.0, ('assigned_room_type', 3.0, 0.25199088349644727)), (0.0, ('assigned_room_type', 4.0, 0.07740984046118783)), (0.0, ('assigned_room_type', 6.0, 0.023528623139831076)), (0.0, ('assigned_room_type', 5.0, 0.03761898377798632)), (0.0, ('assigned_room_type', 8.0, 0.004665504759351119)), (0.0, ('assigned_room_type', 1.0, 0.022027081378200832)), (0.0, ('assigned_room_type', 7.0, 0.006126826652366269)), (0.0, ('assigned_room_type', 9.0, 0.002359565625418957)), (0.0, ('deposit_type', 0.0, 0.997063949591098)), (0.0, ('deposit_type', 2.0, 0.001689234481834026)), (0.0, ('deposit_type', 1.0, 0.0012468159270679715)), (0.0, ('customer_type', 2.0, 0.7051481431827322)), (0.0, ('customer_type', 0.0, 0.03767261026947312)), (0.0, ('customer_type', 3.0, 0.2503418688832283)), (0.0, ('customer_type', 1.0, 0.006837377664566296)), (0.0, ('reservation_status', 1.0, 1.0)), (1.0, ('is_canceled', 1.0, 1.0)), (1.0, ('lead_time', 5.0, 0.10833220062525487)), (1.0, ('lead_time', 2.0, 0.07602736622717593)), (1.0, ('lead_time', 4.0, 0.1056363553984867)), (1.0, ('lead_time', 3.0, 0.09616691586244393)), (1.0, ('lead_time', 1.0, 0.04113995741017625)), (1.0, ('lead_time', 6.0, 0.11603461555887816)), (1.0, ('lead_time', 9.0, 0.18213945901862172)), (1.0, ('lead_time', 0.0, 0.021294911875311493)), (1.0, ('lead_time', 7.0, 0.12575325087218522)), (1.0, ('lead_time', 8.0, 0.12747496715146572)), (1.0, ('arrival_date_week_number', 4.0, 0.11732590276833854)), (1.0, ('arrival_date_week_number', 5.0, 0.09723166145620951)), (1.0, ('arrival_date_week_number', 6.0, 0.10502469303611073)), (1.0, ('arrival_date_week_number', 7.0, 0.10638394273027955)), (1.0, ('arrival_date_week_number', 8.0, 0.08579130986362195)), (1.0, ('arrival_date_week_number', 9.0, 0.104141180734901)), (1.0, ('arrival_date_week_number', 0.0, 0.06977481763399937)), (1.0, ('arrival_date_week_number', 1.0, 0.09924788183589325)), (1.0, ('arrival_date_week_number', 2.0, 0.09127361696343618)), (1.0, ('arrival_date_week_number', 3.0, 0.12380499297720991)), (1.0, ('stays_in_weekend_nights', 0.0, 0.44075936749580896)), (1.0, ('stays_in_weekend_nights', 2.0, 0.31006750940147704)), (1.0, ('stays_in_weekend_nights', 1.0, 0.24917312310271397)), (1.0, ('stays_in_week_nights', 3.0, 0.19208463594762357)), (1.0, ('stays_in_week_nights', 4.0, 0.07904036971591681)), (1.0, ('stays_in_week_nights', 5.0, 0.12663676317339495)), (1.0, ('stays_in_week_nights', 2.0, 0.3368220742150333)), (1.0, ('stays_in_week_nights', 1.0, 0.2224412124507272)), (1.0, ('stays_in_week_nights', 0.0, 0.04297494449730416)), (1.0, ('adults', 2.0, 0.8472429885369942)), (1.0, ('adults', 1.0, 0.1508540618911694)), (1.0, ('adults', 0.0, 0.0019029495718363464)), (1.0, ('children', 0.0, 1.0)), (1.0, ('babies', 0.0, 1.0)), (1.0, ('is_repeated_guest', 0.0, 1.0)), (1.0, ('previous_cancellations', 0.0, 1.0)), (1.0, ('previous_bookings_not_canceled', 0.0, 1.0)), (1.0, ('booking_changes', 0.0, 0.936047301889357)), (1.0, ('booking_changes', 1.0, 0.06395269811064293)), (1.0, ('days_in_waiting_list', 0.0, 1.0)), (1.0, ('adr', 3.0, 0.10289520184857959)), (1.0, ('adr', 6.0, 0.09750351139504326)), (1.0, ('adr', 7.0, 0.11125458746771782)), (1.0, ('adr', 8.0, 0.10262335190974582)), (1.0, ('adr', 5.0, 0.11048434597435548)), (1.0, ('adr', 2.0, 0.07244800869919804)), (1.0, ('adr', 1.0, 0.13080512890217932)), (1.0, ('adr', 9.0, 0.10364278918037244)), (1.0, ('adr', 4.0, 0.11012187938924381)), (1.0, ('adr', 0.0, 0.05822119523356441)), (1.0, ('required_car_parking_spaces', 0.0, 1.0)), (1.0, ('total_of_special_requests', 1.0, 0.16566988355760953)), (1.0, ('total_of_special_requests', 0.0, 0.7586652168003262)), (1.0, ('total_of_special_requests', 2.0, 0.07566489964206424)), (1.0, ('hotel', 1.0, 0.25094014770513345)), (1.0, ('hotel', 0.0, 0.7490598522948666)), (1.0, ('meal', 0.0, 0.7804811743917358)), (1.0, ('meal', 2.0, 0.11281772461601196)), (1.0, ('meal', 1.0, 0.01082868923021159)), (1.0, ('meal', 4.0, 0.00647909020887137)), (1.0, ('meal', 3.0, 0.08939332155316931)), (1.0, ('country', 135.0, 0.6231253681301255)), (1.0, ('country', 76.0, 0.01884826242580762)), (1.0, ('country', 51.0, 0.049318109736758646)), (1.0, ('country', 43.0, 0.02759276879162702)), (1.0, ('country', 34.0, 0.005754157038648)), (1.0, ('country', 81.0, 0.030197997372117258)), (1.0, ('country', 59.0, 0.05554800416836573)), (1.0, ('country', 56.0, 0.043790494313805446)), (1.0, ('country', 5.0, 0.0009741289474876534)), (1.0, ('country', 25.0, 0.018802954102668662)), (1.0, ('country', 123.0, 0.008767160527388882)), (1.0, ('country', 54.0, 0.0015631371482941415)), (1.0, ('country', 29.0, 0.009695981151737575)), (1.0, ('country', 161.0, 0.00043042906982012594)), (1.0, ('country', 15.0, 0.010738072583933668)), (1.0, ('country', 169.0, 0.011349734946309637)), (1.0, ('country', 6.0, 0.0012233247247519369)), (1.0, ('country', 124.0, 0.004100403244075936)), (1.0, ('country', 31.0, 0.010466222645099905)), (1.0, ('country', 133.0, 0.004870644737438267)), (1.0, ('country', 46.0, 0.002469303611073354)), (1.0, ('country', 3.0, 4.5308323138960625e-05)), (1.0, ('country', 140.0, 0.005414344615105795)), (1.0, ('country', 154.0, 0.0051424946762720315)), (1.0, ('country', 12.0, 0.005210457160980472)), (1.0, ('country', 69.0, 0.0005890082008064881)), (1.0, ('country', 75.0, 0.000792895654931811)), (1.0, ('country', 42.0, 0.0008382039780707715)), (1.0, ('country', 100.0, 0.002469303611073354)), (1.0, ('country', 60.0, 0.0003398124235422047)), (1.0, ('country', 48.0, 0.0004757373929590866)), (1.0, ('country', 103.0, 0.002469303611073354)), (1.0, ('country', 4.0, 0.00011327080784740157)), (1.0, ('country', 139.0, 0.003035657650310362)), (1.0, ('country', 162.0, 0.002310724480086992)), (1.0, ('country', 113.0, 0.00043042906982012594)), (1.0, ('country', 174.0, 0.0007022790086538898)), (1.0, ('country', 63.0, 0.00024919577726428344)), (1.0, ('country', 11.0, 0.0024239952879343937)), (1.0, ('country', 168.0, 0.00020388745412532283)), (1.0, ('country', 23.0, 0.00020388745412532283)), (1.0, ('country', 83.0, 0.0001812332925558425)), (1.0, ('country', 41.0, 0.00024919577726428344)), (1.0, ('country', 52.0, 0.00040777490825064566)), (1.0, ('country', 80.0, 0.003828553305242173)), (1.0, ('country', 66.0, 0.000792895654931811)), (1.0, ('country', 101.0, 0.00020388745412532283)), (1.0, ('country', 35.0, 0.0005210457160980472)), (1.0, ('country', 61.0, 6.796248470844094e-05)), (1.0, ('country', 92.0, 0.0001359249694168819)), (1.0, ('country', 121.0, 0.0004757373929590866)), (1.0, ('country', 91.0, 0.0012459788863214173)), (1.0, ('country', 30.0, 0.000362466585111685)), (1.0, ('country', 72.0, 0.0017443704408499842)), (1.0, ('country', 71.0, 0.0005663540392370079)), (1.0, ('country', 106.0, 0.00020388745412532283)), (1.0, ('country', 171.0, 0.0002718499388337638)), (1.0, ('country', 152.0, 0.0005436998776675275)), (1.0, ('country', 1.0, 0.004644103121743464)), (1.0, ('country', 55.0, 2.2654161569480312e-05)), (1.0, ('country', 86.0, 0.00011327080784740157)), (1.0, ('country', 128.0, 0.00020388745412532283)), (1.0, ('country', 73.0, 0.0005436998776675275)), (1.0, ('country', 153.0, 0.0003398124235422047)), (1.0, ('country', 94.0, 0.00020388745412532283)), (1.0, ('country', 131.0, 0.0005663540392370079)), (1.0, ('country', 99.0, 0.0001585791309863622)), (1.0, ('country', 144.0, 0.0001812332925558425)), (1.0, ('country', 155.0, 2.2654161569480312e-05)), (1.0, ('country', 13.0, 0.00020388745412532283)), (1.0, ('country', 20.0, 9.061664627792125e-05)), (1.0, ('country', 77.0, 0.0005210457160980472)), (1.0, ('country', 142.0, 0.0007475873317928503)), (1.0, ('country', 166.0, 0.00045308323138960627)), (1.0, ('country', 49.0, 0.0001812332925558425)), (1.0, ('country', 127.0, 9.061664627792125e-05)), (1.0, ('country', 37.0, 0.0002718499388337638)), (1.0, ('country', 158.0, 0.00040777490825064566)), (1.0, ('country', 163.0, 0.0003171582619727244)), (1.0, ('country', 70.0, 2.2654161569480312e-05)), (1.0, ('country', 149.0, 6.796248470844094e-05)), (1.0, ('country', 85.0, 0.0006343165239454488)), (1.0, ('country', 145.0, 0.000362466585111685)), (1.0, ('country', 107.0, 0.00022654161569480314)), (1.0, ('country', 175.0, 2.2654161569480312e-05)), (1.0, ('country', 138.0, 0.00024919577726428344)), (1.0, ('country', 126.0, 0.0001359249694168819)), (1.0, ('country', 88.0, 4.5308323138960625e-05)), (1.0, ('country', 104.0, 2.2654161569480312e-05)), (1.0, ('country', 18.0, 0.00020388745412532283)), (1.0, ('country', 170.0, 4.5308323138960625e-05)), (1.0, ('country', 19.0, 0.0002718499388337638)), (1.0, ('country', 74.0, 4.5308323138960625e-05)), (1.0, ('country', 159.0, 0.0001812332925558425)), (1.0, ('country', 7.0, 4.5308323138960625e-05)), (1.0, ('country', 130.0, 0.0001359249694168819)), (1.0, ('country', 122.0, 2.2654161569480312e-05)), (1.0, ('country', 79.0, 9.061664627792125e-05)), (1.0, ('country', 16.0, 6.796248470844094e-05)), (1.0, ('country', 102.0, 0.0003398124235422047)), (1.0, ('country', 172.0, 2.2654161569480312e-05)), (1.0, ('country', 115.0, 2.2654161569480312e-05)), (1.0, ('country', 110.0, 0.00011327080784740157)), (1.0, ('country', 50.0, 0.00024919577726428344)), (1.0, ('country', 38.0, 2.2654161569480312e-05)), (1.0, ('country', 164.0, 6.796248470844094e-05)), (1.0, ('country', 84.0, 6.796248470844094e-05)), (1.0, ('country', 117.0, 6.796248470844094e-05)), (1.0, ('country', 58.0, 4.5308323138960625e-05)), (1.0, ('country', 108.0, 4.5308323138960625e-05)), (1.0, ('country', 22.0, 6.796248470844094e-05)), (1.0, ('country', 173.0, 4.5308323138960625e-05)), (1.0, ('country', 62.0, 4.5308323138960625e-05)), (1.0, ('country', 160.0, 2.2654161569480312e-05)), (1.0, ('country', 64.0, 4.5308323138960625e-05)), (1.0, ('country', 87.0, 4.5308323138960625e-05)), (1.0, ('country', 134.0, 4.5308323138960625e-05)), (1.0, ('country', 47.0, 0.0001812332925558425)), (1.0, ('country', 97.0, 2.2654161569480312e-05)), (1.0, ('country', 65.0, 2.2654161569480312e-05)), (1.0, ('country', 53.0, 2.2654161569480312e-05)), (1.0, ('country', 112.0, 4.5308323138960625e-05)), (1.0, ('country', 167.0, 2.2654161569480312e-05)), (1.0, ('country', 118.0, 4.5308323138960625e-05)), (1.0, ('country', 57.0, 9.061664627792125e-05)), (1.0, ('country', 32.0, 4.5308323138960625e-05)), (1.0, ('country', 176.0, 4.5308323138960625e-05)), (1.0, ('market_segment', 6.0, 0.4697340401431743)), (1.0, ('market_segment', 5.0, 0.18737257034117166)), (1.0, ('market_segment', 3.0, 0.04351864437497168)), (1.0, ('market_segment', 2.0, 0.022155770014951746)), (1.0, ('market_segment', 4.0, 0.27397943002129493)), (1.0, ('market_segment', 1.0, 0.002016220379683748)), (1.0, ('market_segment', 7.0, 4.5308323138960625e-05)), (1.0, ('market_segment', 0.0, 0.0011780164016129762)), (1.0, ('distribution_channel', 3.0, 0.908545149744008)), (1.0, ('distribution_channel', 1.0, 0.057586878709618955)), (1.0, ('distribution_channel', 0.0, 0.032939150922024374)), (1.0, ('distribution_channel', 4.0, 9.061664627792125e-05)), (1.0, ('distribution_channel', 2.0, 0.0008382039780707715)), (1.0, ('reserved_room_type', 0.0, 0.7605908205337321)), (1.0, ('reserved_room_type', 3.0, 0.1381903855738299)), (1.0, ('reserved_room_type', 4.0, 0.04311086946672104)), (1.0, ('reserved_room_type', 6.0, 0.01728512527751348)), (1.0, ('reserved_room_type', 5.0, 0.019935662181142677)), (1.0, ('reserved_room_type', 7.0, 0.005550269584522677)), (1.0, ('reserved_room_type', 2.0, 0.006977481763399937)), (1.0, ('reserved_room_type', 8.0, 4.5308323138960625e-05)), (1.0, ('reserved_room_type', 1.0, 0.008314077295999275)), (1.0, ('assigned_room_type', 0.0, 0.7453219156359023)), (1.0, ('assigned_room_type', 3.0, 0.14401250509718636)), (1.0, ('assigned_room_type', 4.0, 0.04431154002990349)), (1.0, ('assigned_room_type', 6.0, 0.017670246024194643)), (1.0, ('assigned_room_type', 5.0, 0.02097775361333877)), (1.0, ('assigned_room_type', 7.0, 0.005686194553939559)), (1.0, ('assigned_room_type', 2.0, 0.010058447736849259)), (1.0, ('assigned_room_type', 1.0, 0.01157627656200444)), (1.0, ('assigned_room_type', 8.0, 0.00011327080784740157)), (1.0, ('assigned_room_type', 10.0, 2.2654161569480312e-05)), (1.0, ('assigned_room_type', 9.0, 0.00024919577726428344)), (1.0, ('deposit_type', 0.0, 0.6711521906574238)), (1.0, ('deposit_type', 1.0, 0.32803225952607495)), (1.0, ('deposit_type', 2.0, 0.0008155498165012913)), (1.0, ('customer_type', 2.0, 0.825721535045988)), (1.0, ('customer_type', 0.0, 0.028589551900684157)), (1.0, ('customer_type', 3.0, 0.14437497168229804)), (1.0, ('customer_type', 1.0, 0.0013139413710298582)), (1.0, ('reservation_status', 0.0, 0.9727696977934847)), (1.0, ('reservation_status', 2.0, 0.027230302206515337))]\n"
     ]
    }
   ],
   "source": [
    "# likelihood = df_selected.mapPartitions(mapper_likelihood).groupByKey().flatMap(reducer1).groupByKey().flatMap(reducer2).groupByKey().flatMap(reducer3).collect()\n",
    "likelihood = df.rdd.mapPartitions(mapper_likelihood).groupByKey().flatMap(reducer1).groupByKey().flatMap(reducer2).groupByKey().flatMap(reducer3).collect()\n",
    "print(likelihood)"
   ]
  }
 ],
 "metadata": {
  "kernelspec": {
   "display_name": "Python 3",
   "language": "python",
   "name": "python3"
  },
  "language_info": {
   "codemirror_mode": {
    "name": "ipython",
    "version": 3
   },
   "file_extension": ".py",
   "mimetype": "text/x-python",
   "name": "python",
   "nbconvert_exporter": "python",
   "pygments_lexer": "ipython3",
   "version": "3.11.5"
  }
 },
 "nbformat": 4,
 "nbformat_minor": 2
}
